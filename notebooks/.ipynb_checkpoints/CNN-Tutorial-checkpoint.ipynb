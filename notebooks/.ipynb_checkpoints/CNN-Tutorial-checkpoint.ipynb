{
 "cells": [
  {
   "cell_type": "code",
   "execution_count": 27,
   "metadata": {},
   "outputs": [],
   "source": [
    "import tensorflow as tf\n",
    "from tensorflow.keras import Sequential\n",
    "from tensorflow.keras.layers import Flatten, Dense, Dropout, BatchNormalization\n",
    "from tensorflow.keras.layers import Conv2D, MaxPool2D\n",
    "from tensorflow.keras.optimizers import Adam"
   ]
  },
  {
   "cell_type": "code",
   "execution_count": 28,
   "metadata": {},
   "outputs": [],
   "source": [
    "import pandas as pd\n",
    "import glob\n",
    "import matplotlib.pyplot as plt\n",
    "import numpy as np\n",
    "from sklearn.model_selection import train_test_split\n",
    "from sklearn.preprocessing import StandardScaler, LabelEncoder"
   ]
  },
  {
   "cell_type": "code",
   "execution_count": 29,
   "metadata": {},
   "outputs": [],
   "source": [
    "path = r'/Users/azamkhan/uni/PDIoT/chest_left' # use your path\n",
    "all_files = glob.glob(path + \"/*.csv\")\n",
    "header_size = 5\n",
    "\n",
    "\n",
    "column_names = [\n",
    "  'activity'  \n",
    "  'timestamp',\n",
    "  'accel_x',\n",
    "  'accel_y',\n",
    "  'accel_z'\n",
    "]\n",
    "\n",
    "li = []\n",
    "\n",
    "for filename in all_files:\n",
    "    with open(filename) as f:\n",
    "        head = [next(f).rstrip().split('# ')[1] for x in range(header_size)]\n",
    "        a_code = head[3].split(':')[1]\n",
    "    df = pd.read_csv(filename, header=header_size)\n",
    "    idx = 0\n",
    "    new_col = a_code\n",
    "    df.insert(loc=idx, column='activity', value=new_col)\n",
    "    li.append(df)\n",
    "\n",
    "\n",
    "    \n",
    "frame = pd.concat(li, axis=0, ignore_index=True)\n",
    "frame = frame.drop(columns=['seq'])"
   ]
  },
  {
   "cell_type": "code",
   "execution_count": 30,
   "metadata": {},
   "outputs": [
    {
     "data": {
      "text/html": [
       "<div>\n",
       "<style scoped>\n",
       "    .dataframe tbody tr th:only-of-type {\n",
       "        vertical-align: middle;\n",
       "    }\n",
       "\n",
       "    .dataframe tbody tr th {\n",
       "        vertical-align: top;\n",
       "    }\n",
       "\n",
       "    .dataframe thead th {\n",
       "        text-align: right;\n",
       "    }\n",
       "</style>\n",
       "<table border=\"1\" class=\"dataframe\">\n",
       "  <thead>\n",
       "    <tr style=\"text-align: right;\">\n",
       "      <th></th>\n",
       "      <th>activity</th>\n",
       "      <th>timestamp</th>\n",
       "      <th>accel_x</th>\n",
       "      <th>accel_y</th>\n",
       "      <th>accel_z</th>\n",
       "    </tr>\n",
       "  </thead>\n",
       "  <tbody>\n",
       "    <tr>\n",
       "      <th>0</th>\n",
       "      <td>11</td>\n",
       "      <td>1603728236902</td>\n",
       "      <td>0.871094</td>\n",
       "      <td>-0.223450</td>\n",
       "      <td>0.041443</td>\n",
       "    </tr>\n",
       "    <tr>\n",
       "      <th>1</th>\n",
       "      <td>11</td>\n",
       "      <td>1603728236980</td>\n",
       "      <td>0.975098</td>\n",
       "      <td>-0.235657</td>\n",
       "      <td>-0.032043</td>\n",
       "    </tr>\n",
       "    <tr>\n",
       "      <th>2</th>\n",
       "      <td>11</td>\n",
       "      <td>1603728237059</td>\n",
       "      <td>0.913574</td>\n",
       "      <td>-0.299377</td>\n",
       "      <td>-0.077209</td>\n",
       "    </tr>\n",
       "    <tr>\n",
       "      <th>3</th>\n",
       "      <td>11</td>\n",
       "      <td>1603728237138</td>\n",
       "      <td>0.938965</td>\n",
       "      <td>-0.291809</td>\n",
       "      <td>0.015320</td>\n",
       "    </tr>\n",
       "    <tr>\n",
       "      <th>4</th>\n",
       "      <td>11</td>\n",
       "      <td>1603728237217</td>\n",
       "      <td>0.909424</td>\n",
       "      <td>-0.166565</td>\n",
       "      <td>-0.035461</td>\n",
       "    </tr>\n",
       "    <tr>\n",
       "      <th>...</th>\n",
       "      <td>...</td>\n",
       "      <td>...</td>\n",
       "      <td>...</td>\n",
       "      <td>...</td>\n",
       "      <td>...</td>\n",
       "    </tr>\n",
       "    <tr>\n",
       "      <th>251116</th>\n",
       "      <td>12</td>\n",
       "      <td>1603752516559</td>\n",
       "      <td>-0.105957</td>\n",
       "      <td>-0.992737</td>\n",
       "      <td>-0.313782</td>\n",
       "    </tr>\n",
       "    <tr>\n",
       "      <th>251117</th>\n",
       "      <td>12</td>\n",
       "      <td>1603752516638</td>\n",
       "      <td>-0.012207</td>\n",
       "      <td>-0.746887</td>\n",
       "      <td>-0.257874</td>\n",
       "    </tr>\n",
       "    <tr>\n",
       "      <th>251118</th>\n",
       "      <td>12</td>\n",
       "      <td>1603752516716</td>\n",
       "      <td>-0.069336</td>\n",
       "      <td>-0.746887</td>\n",
       "      <td>-0.218079</td>\n",
       "    </tr>\n",
       "    <tr>\n",
       "      <th>251119</th>\n",
       "      <td>12</td>\n",
       "      <td>1603752516795</td>\n",
       "      <td>-0.145996</td>\n",
       "      <td>-0.844055</td>\n",
       "      <td>-0.269836</td>\n",
       "    </tr>\n",
       "    <tr>\n",
       "      <th>251120</th>\n",
       "      <td>12</td>\n",
       "      <td>1603752516874</td>\n",
       "      <td>-0.222900</td>\n",
       "      <td>-1.090149</td>\n",
       "      <td>-0.261047</td>\n",
       "    </tr>\n",
       "  </tbody>\n",
       "</table>\n",
       "<p>251121 rows × 5 columns</p>\n",
       "</div>"
      ],
      "text/plain": [
       "       activity      timestamp   accel_x   accel_y   accel_z\n",
       "0            11  1603728236902  0.871094 -0.223450  0.041443\n",
       "1            11  1603728236980  0.975098 -0.235657 -0.032043\n",
       "2            11  1603728237059  0.913574 -0.299377 -0.077209\n",
       "3            11  1603728237138  0.938965 -0.291809  0.015320\n",
       "4            11  1603728237217  0.909424 -0.166565 -0.035461\n",
       "...         ...            ...       ...       ...       ...\n",
       "251116       12  1603752516559 -0.105957 -0.992737 -0.313782\n",
       "251117       12  1603752516638 -0.012207 -0.746887 -0.257874\n",
       "251118       12  1603752516716 -0.069336 -0.746887 -0.218079\n",
       "251119       12  1603752516795 -0.145996 -0.844055 -0.269836\n",
       "251120       12  1603752516874 -0.222900 -1.090149 -0.261047\n",
       "\n",
       "[251121 rows x 5 columns]"
      ]
     },
     "execution_count": 30,
     "metadata": {},
     "output_type": "execute_result"
    }
   ],
   "source": [
    "frame"
   ]
  },
  {
   "cell_type": "code",
   "execution_count": 31,
   "metadata": {},
   "outputs": [],
   "source": [
    "frame['activity'] = frame['activity'].astype('int64')"
   ]
  },
  {
   "cell_type": "code",
   "execution_count": 32,
   "metadata": {},
   "outputs": [
    {
     "name": "stdout",
     "output_type": "stream",
     "text": [
      "<class 'pandas.core.frame.DataFrame'>\n",
      "RangeIndex: 251121 entries, 0 to 251120\n",
      "Data columns (total 5 columns):\n",
      " #   Column     Non-Null Count   Dtype  \n",
      "---  ------     --------------   -----  \n",
      " 0   activity   251121 non-null  int64  \n",
      " 1   timestamp  251121 non-null  int64  \n",
      " 2   accel_x    251121 non-null  float64\n",
      " 3   accel_y    251121 non-null  float64\n",
      " 4   accel_z    251121 non-null  float64\n",
      "dtypes: float64(3), int64(2)\n",
      "memory usage: 9.6 MB\n"
     ]
    }
   ],
   "source": [
    "frame.info()"
   ]
  },
  {
   "cell_type": "code",
   "execution_count": 33,
   "metadata": {},
   "outputs": [],
   "source": [
    "frame.loc[(frame.activity == 100),'activity']=3\n",
    "frame.loc[(frame.activity == 31),'activity']=10"
   ]
  },
  {
   "cell_type": "code",
   "execution_count": 34,
   "metadata": {},
   "outputs": [
    {
     "data": {
      "text/plain": [
       "1     21322\n",
       "0     20763\n",
       "7     20020\n",
       "4     19680\n",
       "8     19042\n",
       "2     18904\n",
       "10    18561\n",
       "3     18417\n",
       "5     18153\n",
       "6     17670\n",
       "11    16264\n",
       "12    15392\n",
       "13    14944\n",
       "9     11989\n",
       "Name: activity, dtype: int64"
      ]
     },
     "execution_count": 34,
     "metadata": {},
     "output_type": "execute_result"
    }
   ],
   "source": [
    "frame['activity'].value_counts()"
   ]
  },
  {
   "cell_type": "code",
   "execution_count": 35,
   "metadata": {},
   "outputs": [
    {
     "data": {
      "text/html": [
       "<div>\n",
       "<style scoped>\n",
       "    .dataframe tbody tr th:only-of-type {\n",
       "        vertical-align: middle;\n",
       "    }\n",
       "\n",
       "    .dataframe tbody tr th {\n",
       "        vertical-align: top;\n",
       "    }\n",
       "\n",
       "    .dataframe thead th {\n",
       "        text-align: right;\n",
       "    }\n",
       "</style>\n",
       "<table border=\"1\" class=\"dataframe\">\n",
       "  <thead>\n",
       "    <tr style=\"text-align: right;\">\n",
       "      <th></th>\n",
       "      <th>activity</th>\n",
       "      <th>accel_x</th>\n",
       "      <th>accel_y</th>\n",
       "      <th>accel_z</th>\n",
       "    </tr>\n",
       "  </thead>\n",
       "  <tbody>\n",
       "    <tr>\n",
       "      <th>251116</th>\n",
       "      <td>12</td>\n",
       "      <td>-0.105957</td>\n",
       "      <td>-0.992737</td>\n",
       "      <td>-0.313782</td>\n",
       "    </tr>\n",
       "    <tr>\n",
       "      <th>251117</th>\n",
       "      <td>12</td>\n",
       "      <td>-0.012207</td>\n",
       "      <td>-0.746887</td>\n",
       "      <td>-0.257874</td>\n",
       "    </tr>\n",
       "    <tr>\n",
       "      <th>251118</th>\n",
       "      <td>12</td>\n",
       "      <td>-0.069336</td>\n",
       "      <td>-0.746887</td>\n",
       "      <td>-0.218079</td>\n",
       "    </tr>\n",
       "    <tr>\n",
       "      <th>251119</th>\n",
       "      <td>12</td>\n",
       "      <td>-0.145996</td>\n",
       "      <td>-0.844055</td>\n",
       "      <td>-0.269836</td>\n",
       "    </tr>\n",
       "    <tr>\n",
       "      <th>251120</th>\n",
       "      <td>12</td>\n",
       "      <td>-0.222900</td>\n",
       "      <td>-1.090149</td>\n",
       "      <td>-0.261047</td>\n",
       "    </tr>\n",
       "  </tbody>\n",
       "</table>\n",
       "</div>"
      ],
      "text/plain": [
       "        activity   accel_x   accel_y   accel_z\n",
       "251116        12 -0.105957 -0.992737 -0.313782\n",
       "251117        12 -0.012207 -0.746887 -0.257874\n",
       "251118        12 -0.069336 -0.746887 -0.218079\n",
       "251119        12 -0.145996 -0.844055 -0.269836\n",
       "251120        12 -0.222900 -1.090149 -0.261047"
      ]
     },
     "execution_count": 35,
     "metadata": {},
     "output_type": "execute_result"
    }
   ],
   "source": [
    "df = frame.drop(['timestamp'], axis=1).copy()\n",
    "df.tail()"
   ]
  },
  {
   "cell_type": "code",
   "execution_count": 36,
   "metadata": {},
   "outputs": [],
   "source": [
    "x = df[['accel_x', 'accel_y', 'accel_z']]\n",
    "y = df['activity']"
   ]
  },
  {
   "cell_type": "code",
   "execution_count": 37,
   "metadata": {},
   "outputs": [
    {
     "data": {
      "text/html": [
       "<div>\n",
       "<style scoped>\n",
       "    .dataframe tbody tr th:only-of-type {\n",
       "        vertical-align: middle;\n",
       "    }\n",
       "\n",
       "    .dataframe tbody tr th {\n",
       "        vertical-align: top;\n",
       "    }\n",
       "\n",
       "    .dataframe thead th {\n",
       "        text-align: right;\n",
       "    }\n",
       "</style>\n",
       "<table border=\"1\" class=\"dataframe\">\n",
       "  <thead>\n",
       "    <tr style=\"text-align: right;\">\n",
       "      <th></th>\n",
       "      <th>accel_x</th>\n",
       "      <th>accel_y</th>\n",
       "      <th>accel_z</th>\n",
       "      <th>activity</th>\n",
       "    </tr>\n",
       "  </thead>\n",
       "  <tbody>\n",
       "    <tr>\n",
       "      <th>0</th>\n",
       "      <td>2.010428</td>\n",
       "      <td>0.401789</td>\n",
       "      <td>0.027035</td>\n",
       "      <td>11</td>\n",
       "    </tr>\n",
       "    <tr>\n",
       "      <th>1</th>\n",
       "      <td>2.244275</td>\n",
       "      <td>0.382923</td>\n",
       "      <td>-0.127282</td>\n",
       "      <td>11</td>\n",
       "    </tr>\n",
       "    <tr>\n",
       "      <th>2</th>\n",
       "      <td>2.105943</td>\n",
       "      <td>0.284447</td>\n",
       "      <td>-0.222129</td>\n",
       "      <td>11</td>\n",
       "    </tr>\n",
       "    <tr>\n",
       "      <th>3</th>\n",
       "      <td>2.163032</td>\n",
       "      <td>0.296143</td>\n",
       "      <td>-0.027822</td>\n",
       "      <td>11</td>\n",
       "    </tr>\n",
       "    <tr>\n",
       "      <th>4</th>\n",
       "      <td>2.096611</td>\n",
       "      <td>0.489701</td>\n",
       "      <td>-0.134460</td>\n",
       "      <td>11</td>\n",
       "    </tr>\n",
       "    <tr>\n",
       "      <th>...</th>\n",
       "      <td>...</td>\n",
       "      <td>...</td>\n",
       "      <td>...</td>\n",
       "      <td>...</td>\n",
       "    </tr>\n",
       "    <tr>\n",
       "      <th>251116</th>\n",
       "      <td>-0.186417</td>\n",
       "      <td>-0.787099</td>\n",
       "      <td>-0.718919</td>\n",
       "      <td>12</td>\n",
       "    </tr>\n",
       "    <tr>\n",
       "      <th>251117</th>\n",
       "      <td>0.024375</td>\n",
       "      <td>-0.407153</td>\n",
       "      <td>-0.601514</td>\n",
       "      <td>12</td>\n",
       "    </tr>\n",
       "    <tr>\n",
       "      <th>251118</th>\n",
       "      <td>-0.104076</td>\n",
       "      <td>-0.407153</td>\n",
       "      <td>-0.517947</td>\n",
       "      <td>12</td>\n",
       "    </tr>\n",
       "    <tr>\n",
       "      <th>251119</th>\n",
       "      <td>-0.276442</td>\n",
       "      <td>-0.557321</td>\n",
       "      <td>-0.626636</td>\n",
       "      <td>12</td>\n",
       "    </tr>\n",
       "    <tr>\n",
       "      <th>251120</th>\n",
       "      <td>-0.449358</td>\n",
       "      <td>-0.937644</td>\n",
       "      <td>-0.608179</td>\n",
       "      <td>12</td>\n",
       "    </tr>\n",
       "  </tbody>\n",
       "</table>\n",
       "<p>251121 rows × 4 columns</p>\n",
       "</div>"
      ],
      "text/plain": [
       "         accel_x   accel_y   accel_z  activity\n",
       "0       2.010428  0.401789  0.027035        11\n",
       "1       2.244275  0.382923 -0.127282        11\n",
       "2       2.105943  0.284447 -0.222129        11\n",
       "3       2.163032  0.296143 -0.027822        11\n",
       "4       2.096611  0.489701 -0.134460        11\n",
       "...          ...       ...       ...       ...\n",
       "251116 -0.186417 -0.787099 -0.718919        12\n",
       "251117  0.024375 -0.407153 -0.601514        12\n",
       "251118 -0.104076 -0.407153 -0.517947        12\n",
       "251119 -0.276442 -0.557321 -0.626636        12\n",
       "251120 -0.449358 -0.937644 -0.608179        12\n",
       "\n",
       "[251121 rows x 4 columns]"
      ]
     },
     "execution_count": 37,
     "metadata": {},
     "output_type": "execute_result"
    }
   ],
   "source": [
    "scaler = StandardScaler()\n",
    "x = scaler.fit_transform(x)\n",
    "\n",
    "scaled_x = pd.DataFrame(data =x, columns = ['accel_x', 'accel_y', 'accel_z'])\n",
    "scaled_x['activity'] = y.values\n",
    "\n",
    "scaled_x"
   ]
  },
  {
   "cell_type": "code",
   "execution_count": null,
   "metadata": {},
   "outputs": [],
   "source": []
  },
  {
   "cell_type": "code",
   "execution_count": null,
   "metadata": {},
   "outputs": [],
   "source": []
  },
  {
   "cell_type": "code",
   "execution_count": null,
   "metadata": {},
   "outputs": [],
   "source": []
  },
  {
   "cell_type": "code",
   "execution_count": null,
   "metadata": {},
   "outputs": [],
   "source": []
  },
  {
   "cell_type": "markdown",
   "metadata": {},
   "source": [
    "### Balanced Dataset"
   ]
  },
  {
   "cell_type": "code",
   "execution_count": 181,
   "metadata": {},
   "outputs": [],
   "source": [
    "activities = frame['activity'].value_counts().index"
   ]
  },
  {
   "cell_type": "code",
   "execution_count": 182,
   "metadata": {},
   "outputs": [
    {
     "data": {
      "text/html": [
       "<div>\n",
       "<style scoped>\n",
       "    .dataframe tbody tr th:only-of-type {\n",
       "        vertical-align: middle;\n",
       "    }\n",
       "\n",
       "    .dataframe tbody tr th {\n",
       "        vertical-align: top;\n",
       "    }\n",
       "\n",
       "    .dataframe thead th {\n",
       "        text-align: right;\n",
       "    }\n",
       "</style>\n",
       "<table border=\"1\" class=\"dataframe\">\n",
       "  <thead>\n",
       "    <tr style=\"text-align: right;\">\n",
       "      <th></th>\n",
       "      <th>activity</th>\n",
       "      <th>accel_x</th>\n",
       "      <th>accel_y</th>\n",
       "      <th>accel_z</th>\n",
       "    </tr>\n",
       "  </thead>\n",
       "  <tbody>\n",
       "    <tr>\n",
       "      <th>264538</th>\n",
       "      <td>1</td>\n",
       "      <td>1.181396</td>\n",
       "      <td>-0.095276</td>\n",
       "      <td>0.267029</td>\n",
       "    </tr>\n",
       "    <tr>\n",
       "      <th>264539</th>\n",
       "      <td>1</td>\n",
       "      <td>1.035400</td>\n",
       "      <td>-0.272034</td>\n",
       "      <td>0.094910</td>\n",
       "    </tr>\n",
       "    <tr>\n",
       "      <th>264540</th>\n",
       "      <td>1</td>\n",
       "      <td>0.860840</td>\n",
       "      <td>-0.259094</td>\n",
       "      <td>0.033875</td>\n",
       "    </tr>\n",
       "    <tr>\n",
       "      <th>264541</th>\n",
       "      <td>1</td>\n",
       "      <td>0.716309</td>\n",
       "      <td>-0.260803</td>\n",
       "      <td>0.008484</td>\n",
       "    </tr>\n",
       "    <tr>\n",
       "      <th>264542</th>\n",
       "      <td>1</td>\n",
       "      <td>0.735352</td>\n",
       "      <td>-0.292542</td>\n",
       "      <td>0.009216</td>\n",
       "    </tr>\n",
       "  </tbody>\n",
       "</table>\n",
       "</div>"
      ],
      "text/plain": [
       "        activity   accel_x   accel_y   accel_z\n",
       "264538         1  1.181396 -0.095276  0.267029\n",
       "264539         1  1.035400 -0.272034  0.094910\n",
       "264540         1  0.860840 -0.259094  0.033875\n",
       "264541         1  0.716309 -0.260803  0.008484\n",
       "264542         1  0.735352 -0.292542  0.009216"
      ]
     },
     "execution_count": 182,
     "metadata": {},
     "output_type": "execute_result"
    }
   ],
   "source": [
    "df = frame.drop(['timestamp'], axis=1).copy()\n",
    "df.tail()"
   ]
  },
  {
   "cell_type": "code",
   "execution_count": 183,
   "metadata": {},
   "outputs": [
    {
     "data": {
      "text/html": [
       "<div>\n",
       "<style scoped>\n",
       "    .dataframe tbody tr th:only-of-type {\n",
       "        vertical-align: middle;\n",
       "    }\n",
       "\n",
       "    .dataframe tbody tr th {\n",
       "        vertical-align: top;\n",
       "    }\n",
       "\n",
       "    .dataframe thead th {\n",
       "        text-align: right;\n",
       "    }\n",
       "</style>\n",
       "<table border=\"1\" class=\"dataframe\">\n",
       "  <thead>\n",
       "    <tr style=\"text-align: right;\">\n",
       "      <th></th>\n",
       "      <th>activity</th>\n",
       "      <th>accel_x</th>\n",
       "      <th>accel_y</th>\n",
       "      <th>accel_z</th>\n",
       "    </tr>\n",
       "  </thead>\n",
       "  <tbody>\n",
       "    <tr>\n",
       "      <th>1248</th>\n",
       "      <td>4</td>\n",
       "      <td>-0.732666</td>\n",
       "      <td>0.204773</td>\n",
       "      <td>0.579773</td>\n",
       "    </tr>\n",
       "    <tr>\n",
       "      <th>1249</th>\n",
       "      <td>4</td>\n",
       "      <td>-0.633545</td>\n",
       "      <td>0.323425</td>\n",
       "      <td>0.633484</td>\n",
       "    </tr>\n",
       "    <tr>\n",
       "      <th>1250</th>\n",
       "      <td>4</td>\n",
       "      <td>-0.553711</td>\n",
       "      <td>0.575378</td>\n",
       "      <td>0.799500</td>\n",
       "    </tr>\n",
       "    <tr>\n",
       "      <th>1251</th>\n",
       "      <td>4</td>\n",
       "      <td>-0.566406</td>\n",
       "      <td>0.444763</td>\n",
       "      <td>0.749451</td>\n",
       "    </tr>\n",
       "    <tr>\n",
       "      <th>1252</th>\n",
       "      <td>4</td>\n",
       "      <td>-0.552490</td>\n",
       "      <td>0.509949</td>\n",
       "      <td>0.718689</td>\n",
       "    </tr>\n",
       "    <tr>\n",
       "      <th>...</th>\n",
       "      <td>...</td>\n",
       "      <td>...</td>\n",
       "      <td>...</td>\n",
       "      <td>...</td>\n",
       "    </tr>\n",
       "    <tr>\n",
       "      <th>90815</th>\n",
       "      <td>4</td>\n",
       "      <td>0.075439</td>\n",
       "      <td>-0.287170</td>\n",
       "      <td>0.912537</td>\n",
       "    </tr>\n",
       "    <tr>\n",
       "      <th>90816</th>\n",
       "      <td>4</td>\n",
       "      <td>0.074219</td>\n",
       "      <td>-0.287415</td>\n",
       "      <td>0.916199</td>\n",
       "    </tr>\n",
       "    <tr>\n",
       "      <th>90817</th>\n",
       "      <td>4</td>\n",
       "      <td>0.074219</td>\n",
       "      <td>-0.287415</td>\n",
       "      <td>0.916199</td>\n",
       "    </tr>\n",
       "    <tr>\n",
       "      <th>90818</th>\n",
       "      <td>4</td>\n",
       "      <td>0.076660</td>\n",
       "      <td>-0.287415</td>\n",
       "      <td>0.911072</td>\n",
       "    </tr>\n",
       "    <tr>\n",
       "      <th>90819</th>\n",
       "      <td>4</td>\n",
       "      <td>0.076416</td>\n",
       "      <td>-0.286682</td>\n",
       "      <td>0.913269</td>\n",
       "    </tr>\n",
       "  </tbody>\n",
       "</table>\n",
       "<p>12923 rows × 4 columns</p>\n",
       "</div>"
      ],
      "text/plain": [
       "       activity   accel_x   accel_y   accel_z\n",
       "1248          4 -0.732666  0.204773  0.579773\n",
       "1249          4 -0.633545  0.323425  0.633484\n",
       "1250          4 -0.553711  0.575378  0.799500\n",
       "1251          4 -0.566406  0.444763  0.749451\n",
       "1252          4 -0.552490  0.509949  0.718689\n",
       "...         ...       ...       ...       ...\n",
       "90815         4  0.075439 -0.287170  0.912537\n",
       "90816         4  0.074219 -0.287415  0.916199\n",
       "90817         4  0.074219 -0.287415  0.916199\n",
       "90818         4  0.076660 -0.287415  0.911072\n",
       "90819         4  0.076416 -0.286682  0.913269\n",
       "\n",
       "[12923 rows x 4 columns]"
      ]
     },
     "execution_count": 183,
     "metadata": {},
     "output_type": "execute_result"
    }
   ],
   "source": [
    "Sitting_bent_forward = df[df['activity'] == 4].head(12923).copy()\n",
    "Sitting_bent_forward"
   ]
  },
  {
   "cell_type": "code",
   "execution_count": 207,
   "metadata": {},
   "outputs": [],
   "source": [
    "Sitting_bent_forward = df[df['activity'] == 4].head(14555).copy()\n",
    "Lying_down_on_back = df[df['activity'] == 2].head(14555).copy()\n",
    "Standing = df[df['activity'] == 3].head(14555).copy()\n",
    "Sitting = df[df['activity'] == 0].head(14555).copy()\n",
    "Lying_down_left = df[df['activity'] == 7].head(14555).copy()\n",
    "Walking_at_normal_speed = df[df['activity'] == 1].head(14555).copy()\n",
    "Lying_down_right = df[df['activity'] == 6].head(14555).copy()\n",
    "Sitting_bent_backward = df[df['activity'] == 5].head(14555).copy()\n",
    "Lying_down_on_stomach = df[df['activity'] == 8].head(14555).copy()\n",
    "Desk_work = df[df['activity'] == 10].head(14555).copy()\n",
    "Running = df[df['activity'] == 11].head(14555).copy()\n",
    "Descending_stairs = df[df['activity'] == 13].head(14555).copy()\n",
    "Climbing_stairs = df[df['activity'] == 12].head(14555).copy()\n",
    "Movement = df[df['activity'] == 9].copy()"
   ]
  },
  {
   "cell_type": "code",
   "execution_count": 208,
   "metadata": {},
   "outputs": [
    {
     "data": {
      "text/plain": [
       "(203770, 4)"
      ]
     },
     "execution_count": 208,
     "metadata": {},
     "output_type": "execute_result"
    }
   ],
   "source": [
    "balanced_df = pd.DataFrame()\n",
    "balanced_df = balanced_df.append([Sitting_bent_forward, Lying_down_on_back, Standing, Sitting, Lying_down_left, Walking_at_normal_speed, Lying_down_right, Sitting_bent_backward, Lying_down_on_stomach, Desk_work, Running, Descending_stairs, Climbing_stairs, Movement])\n",
    "balanced_df.shape"
   ]
  },
  {
   "cell_type": "code",
   "execution_count": 209,
   "metadata": {},
   "outputs": [
    {
     "data": {
      "text/plain": [
       "13    14555\n",
       "12    14555\n",
       "11    14555\n",
       "10    14555\n",
       "9     14555\n",
       "8     14555\n",
       "7     14555\n",
       "6     14555\n",
       "5     14555\n",
       "4     14555\n",
       "3     14555\n",
       "2     14555\n",
       "1     14555\n",
       "0     14555\n",
       "Name: activity, dtype: int64"
      ]
     },
     "execution_count": 209,
     "metadata": {},
     "output_type": "execute_result"
    }
   ],
   "source": [
    "balanced_df['activity'].value_counts()"
   ]
  },
  {
   "cell_type": "markdown",
   "metadata": {},
   "source": [
    "### Standardize"
   ]
  },
  {
   "cell_type": "code",
   "execution_count": 210,
   "metadata": {},
   "outputs": [],
   "source": [
    "x = balanced_df[['accel_x', 'accel_y', 'accel_z']]\n",
    "y = balanced_df['activity']"
   ]
  },
  {
   "cell_type": "code",
   "execution_count": 211,
   "metadata": {},
   "outputs": [
    {
     "data": {
      "text/html": [
       "<div>\n",
       "<style scoped>\n",
       "    .dataframe tbody tr th:only-of-type {\n",
       "        vertical-align: middle;\n",
       "    }\n",
       "\n",
       "    .dataframe tbody tr th {\n",
       "        vertical-align: top;\n",
       "    }\n",
       "\n",
       "    .dataframe thead th {\n",
       "        text-align: right;\n",
       "    }\n",
       "</style>\n",
       "<table border=\"1\" class=\"dataframe\">\n",
       "  <thead>\n",
       "    <tr style=\"text-align: right;\">\n",
       "      <th></th>\n",
       "      <th>accel_x</th>\n",
       "      <th>accel_y</th>\n",
       "      <th>accel_z</th>\n",
       "      <th>activity</th>\n",
       "    </tr>\n",
       "  </thead>\n",
       "  <tbody>\n",
       "    <tr>\n",
       "      <th>0</th>\n",
       "      <td>-0.795549</td>\n",
       "      <td>0.045597</td>\n",
       "      <td>0.545989</td>\n",
       "      <td>4</td>\n",
       "    </tr>\n",
       "    <tr>\n",
       "      <th>1</th>\n",
       "      <td>-0.628471</td>\n",
       "      <td>0.264111</td>\n",
       "      <td>0.643987</td>\n",
       "      <td>4</td>\n",
       "    </tr>\n",
       "    <tr>\n",
       "      <th>2</th>\n",
       "      <td>-0.493903</td>\n",
       "      <td>0.728118</td>\n",
       "      <td>0.946890</td>\n",
       "      <td>4</td>\n",
       "    </tr>\n",
       "    <tr>\n",
       "      <th>3</th>\n",
       "      <td>-0.515302</td>\n",
       "      <td>0.487572</td>\n",
       "      <td>0.855574</td>\n",
       "      <td>4</td>\n",
       "    </tr>\n",
       "    <tr>\n",
       "      <th>4</th>\n",
       "      <td>-0.491845</td>\n",
       "      <td>0.607620</td>\n",
       "      <td>0.799447</td>\n",
       "      <td>4</td>\n",
       "    </tr>\n",
       "    <tr>\n",
       "      <th>...</th>\n",
       "      <td>...</td>\n",
       "      <td>...</td>\n",
       "      <td>...</td>\n",
       "      <td>...</td>\n",
       "    </tr>\n",
       "    <tr>\n",
       "      <th>203765</th>\n",
       "      <td>0.831199</td>\n",
       "      <td>-0.297462</td>\n",
       "      <td>0.991880</td>\n",
       "      <td>9</td>\n",
       "    </tr>\n",
       "    <tr>\n",
       "      <th>203766</th>\n",
       "      <td>0.768648</td>\n",
       "      <td>-0.251601</td>\n",
       "      <td>1.114823</td>\n",
       "      <td>9</td>\n",
       "    </tr>\n",
       "    <tr>\n",
       "      <th>203767</th>\n",
       "      <td>0.814327</td>\n",
       "      <td>-0.346920</td>\n",
       "      <td>0.950899</td>\n",
       "      <td>9</td>\n",
       "    </tr>\n",
       "    <tr>\n",
       "      <th>203768</th>\n",
       "      <td>0.897043</td>\n",
       "      <td>-0.375696</td>\n",
       "      <td>1.053797</td>\n",
       "      <td>9</td>\n",
       "    </tr>\n",
       "    <tr>\n",
       "      <th>203769</th>\n",
       "      <td>0.900335</td>\n",
       "      <td>-0.233167</td>\n",
       "      <td>1.161149</td>\n",
       "      <td>9</td>\n",
       "    </tr>\n",
       "  </tbody>\n",
       "</table>\n",
       "<p>203770 rows × 4 columns</p>\n",
       "</div>"
      ],
      "text/plain": [
       "         accel_x   accel_y   accel_z  activity\n",
       "0      -0.795549  0.045597  0.545989         4\n",
       "1      -0.628471  0.264111  0.643987         4\n",
       "2      -0.493903  0.728118  0.946890         4\n",
       "3      -0.515302  0.487572  0.855574         4\n",
       "4      -0.491845  0.607620  0.799447         4\n",
       "...          ...       ...       ...       ...\n",
       "203765  0.831199 -0.297462  0.991880         9\n",
       "203766  0.768648 -0.251601  1.114823         9\n",
       "203767  0.814327 -0.346920  0.950899         9\n",
       "203768  0.897043 -0.375696  1.053797         9\n",
       "203769  0.900335 -0.233167  1.161149         9\n",
       "\n",
       "[203770 rows x 4 columns]"
      ]
     },
     "execution_count": 211,
     "metadata": {},
     "output_type": "execute_result"
    }
   ],
   "source": [
    "scaler = StandardScaler()\n",
    "x = scaler.fit_transform(x)\n",
    "\n",
    "scaled_x = pd.DataFrame(data =x, columns = ['accel_x', 'accel_y', 'accel_z'])\n",
    "scaled_x['activity'] = y.values\n",
    "\n",
    "scaled_x"
   ]
  },
  {
   "cell_type": "markdown",
   "metadata": {},
   "source": [
    "### Windows"
   ]
  },
  {
   "cell_type": "code",
   "execution_count": 212,
   "metadata": {},
   "outputs": [],
   "source": [
    "import scipy.stats as stats"
   ]
  },
  {
   "cell_type": "code",
   "execution_count": 213,
   "metadata": {},
   "outputs": [],
   "source": [
    "Fs = 12.5\n",
    "window_size = 50\n",
    "hop_size = 25"
   ]
  },
  {
   "cell_type": "code",
   "execution_count": 214,
   "metadata": {},
   "outputs": [],
   "source": [
    "def get_windows(df, window_size, hop_size):\n",
    "    N_FEATURES = 3\n",
    "    windows = []\n",
    "    labels = []\n",
    "    for i in range(0, len(df) - window_size, hop_size):\n",
    "        x = df['accel_x'].values[i: i + window_size]\n",
    "        y = df['accel_y'].values[i: i + window_size]\n",
    "        z = df['accel_z'].values[i: i + window_size]\n",
    "        \n",
    "        activity = stats.mode(df['activity'][i: i + window_size])[0][0]\n",
    "        windows.append([x,y,z])\n",
    "        labels.append(activity)\n",
    "        \n",
    "    windows = np.asarray(windows).reshape(-1, window_size, N_FEATURES)\n",
    "    labels = np.asarray(labels)\n",
    "    \n",
    "    return windows, labels"
   ]
  },
  {
   "cell_type": "code",
   "execution_count": 215,
   "metadata": {},
   "outputs": [],
   "source": [
    "X, y = get_windows(scaled_x, window_size, hop_size)"
   ]
  },
  {
   "cell_type": "code",
   "execution_count": 216,
   "metadata": {},
   "outputs": [
    {
     "data": {
      "text/plain": [
       "((8149, 50, 3), (8149,))"
      ]
     },
     "execution_count": 216,
     "metadata": {},
     "output_type": "execute_result"
    }
   ],
   "source": [
    "X.shape, y.shape"
   ]
  },
  {
   "cell_type": "code",
   "execution_count": 217,
   "metadata": {},
   "outputs": [],
   "source": [
    "x_train, x_test, y_train, y_test = train_test_split(X, y, test_size = 0.2, random_state = 0, stratify = y)\n"
   ]
  },
  {
   "cell_type": "code",
   "execution_count": 218,
   "metadata": {},
   "outputs": [
    {
     "data": {
      "text/plain": [
       "((6519, 50, 3), (1630, 50, 3))"
      ]
     },
     "execution_count": 218,
     "metadata": {},
     "output_type": "execute_result"
    }
   ],
   "source": [
    "x_train.shape, x_test.shape"
   ]
  },
  {
   "cell_type": "code",
   "execution_count": 219,
   "metadata": {},
   "outputs": [],
   "source": [
    "x_train = x_train.reshape(6519, 50, 3, 1)\n",
    "x_test = x_test.reshape(1630, 50, 3, 1)"
   ]
  },
  {
   "cell_type": "code",
   "execution_count": 220,
   "metadata": {},
   "outputs": [
    {
     "data": {
      "text/plain": [
       "((50, 3, 1), (50, 3, 1))"
      ]
     },
     "execution_count": 220,
     "metadata": {},
     "output_type": "execute_result"
    }
   ],
   "source": [
    "x_train[0].shape, x_test[0].shape"
   ]
  },
  {
   "cell_type": "markdown",
   "metadata": {},
   "source": [
    "### 2d CNN"
   ]
  },
  {
   "cell_type": "code",
   "execution_count": 230,
   "metadata": {},
   "outputs": [],
   "source": [
    "model = Sequential()\n",
    "model.add(Conv2D(16, (2,2), activation='relu', input_shape = x_train[0].shape))\n",
    "model.add(Dropout(0.1))\n",
    "\n",
    "model.add(Conv2D(32, (2,2), activation='relu'))\n",
    "model.add(Dropout(0.2))\n",
    "\n",
    "model.add(Flatten())\n",
    "model.add(Dense(64, activation='relu'))\n",
    "model.add(Dropout(0.5))\n",
    "\n",
    "model.add(Dense(14, activation='softmax'))\n"
   ]
  },
  {
   "cell_type": "code",
   "execution_count": 231,
   "metadata": {},
   "outputs": [],
   "source": [
    "model.compile(optimizer=Adam(learning_rate=0.001), loss='sparse_categorical_crossentropy', metrics = ['accuracy'])"
   ]
  },
  {
   "cell_type": "code",
   "execution_count": 232,
   "metadata": {},
   "outputs": [
    {
     "name": "stdout",
     "output_type": "stream",
     "text": [
      "Train on 6519 samples, validate on 1630 samples\n",
      "Epoch 1/19\n",
      "6519/6519 [==============================] - 7s 999us/sample - loss: 2.0440 - accuracy: 0.2812 - val_loss: 1.5929 - val_accuracy: 0.4356\n",
      "Epoch 2/19\n",
      "6519/6519 [==============================] - 5s 701us/sample - loss: 1.6639 - accuracy: 0.4030 - val_loss: 1.4185 - val_accuracy: 0.4681\n",
      "Epoch 3/19\n",
      "6519/6519 [==============================] - 5s 780us/sample - loss: 1.5310 - accuracy: 0.4277 - val_loss: 1.3434 - val_accuracy: 0.5025\n",
      "Epoch 4/19\n",
      "6519/6519 [==============================] - 5s 721us/sample - loss: 1.4584 - accuracy: 0.4676 - val_loss: 1.2831 - val_accuracy: 0.5037\n",
      "Epoch 5/19\n",
      "6519/6519 [==============================] - 5s 704us/sample - loss: 1.3964 - accuracy: 0.4987 - val_loss: 1.2603 - val_accuracy: 0.5632\n",
      "Epoch 6/19\n",
      "6519/6519 [==============================] - 5s 716us/sample - loss: 1.3418 - accuracy: 0.5073 - val_loss: 1.2070 - val_accuracy: 0.5963\n",
      "Epoch 7/19\n",
      "6519/6519 [==============================] - 5s 794us/sample - loss: 1.3204 - accuracy: 0.5212 - val_loss: 1.1935 - val_accuracy: 0.5675\n",
      "Epoch 8/19\n",
      "6519/6519 [==============================] - 5s 782us/sample - loss: 1.2776 - accuracy: 0.5301 - val_loss: 1.1531 - val_accuracy: 0.5822\n",
      "Epoch 9/19\n",
      "6519/6519 [==============================] - 5s 809us/sample - loss: 1.2602 - accuracy: 0.5423 - val_loss: 1.1527 - val_accuracy: 0.5926\n",
      "Epoch 10/19\n",
      "6519/6519 [==============================] - 5s 760us/sample - loss: 1.2360 - accuracy: 0.5482 - val_loss: 1.1103 - val_accuracy: 0.5939\n",
      "Epoch 11/19\n",
      "6519/6519 [==============================] - 5s 782us/sample - loss: 1.2200 - accuracy: 0.5585 - val_loss: 1.0880 - val_accuracy: 0.6098\n",
      "Epoch 12/19\n",
      "6519/6519 [==============================] - 5s 779us/sample - loss: 1.1871 - accuracy: 0.5711 - val_loss: 1.0760 - val_accuracy: 0.6184\n",
      "Epoch 13/19\n",
      "6519/6519 [==============================] - 5s 783us/sample - loss: 1.1600 - accuracy: 0.5722 - val_loss: 1.0747 - val_accuracy: 0.6313\n",
      "Epoch 14/19\n",
      "6519/6519 [==============================] - 5s 788us/sample - loss: 1.1406 - accuracy: 0.5757 - val_loss: 1.0673 - val_accuracy: 0.6141\n",
      "Epoch 15/19\n",
      "6519/6519 [==============================] - 5s 784us/sample - loss: 1.1252 - accuracy: 0.5798 - val_loss: 1.0351 - val_accuracy: 0.6399\n",
      "Epoch 16/19\n",
      "6519/6519 [==============================] - 5s 789us/sample - loss: 1.1081 - accuracy: 0.5903 - val_loss: 1.0647 - val_accuracy: 0.6393\n",
      "Epoch 17/19\n",
      "6519/6519 [==============================] - 5s 757us/sample - loss: 1.0896 - accuracy: 0.6002 - val_loss: 0.9978 - val_accuracy: 0.6417\n",
      "Epoch 18/19\n",
      "6519/6519 [==============================] - 5s 758us/sample - loss: 1.0623 - accuracy: 0.6039 - val_loss: 0.9898 - val_accuracy: 0.6558\n",
      "Epoch 19/19\n",
      "6519/6519 [==============================] - 5s 839us/sample - loss: 1.0721 - accuracy: 0.6065 - val_loss: 0.9908 - val_accuracy: 0.6583\n"
     ]
    }
   ],
   "source": [
    "history = model.fit(x_train, y_train, epochs=19, validation_data = (x_test, y_test), verbose=1)"
   ]
  },
  {
   "cell_type": "markdown",
   "metadata": {},
   "source": [
    "### Confusion Matrix"
   ]
  },
  {
   "cell_type": "code",
   "execution_count": 224,
   "metadata": {},
   "outputs": [],
   "source": [
    "from mlxtend.plotting import plot_confusion_matrix\n",
    "from sklearn.metrics import confusion_matrix"
   ]
  },
  {
   "cell_type": "code",
   "execution_count": 233,
   "metadata": {},
   "outputs": [],
   "source": [
    "y_pred = model.predict_classes(x_test)"
   ]
  },
  {
   "cell_type": "code",
   "execution_count": 234,
   "metadata": {
    "scrolled": true
   },
   "outputs": [
    {
     "data": {
      "text/plain": [
       "(<Figure size 1008x1008 with 1 Axes>,\n",
       " <AxesSubplot:xlabel='predicted label', ylabel='true label'>)"
      ]
     },
     "execution_count": 234,
     "metadata": {},
     "output_type": "execute_result"
    },
    {
     "data": {
      "image/png": "[encoded data removed]",
      "text/plain": [
       "<Figure size 1008x1008 with 1 Axes>"
      ]
     },
     "metadata": {
      "needs_background": "light"
     },
     "output_type": "display_data"
    }
   ],
   "source": [
    "mat = confusion_matrix(y_test, y_pred)\n",
    "plot_confusion_matrix(conf_mat=mat, class_names=balanced_df['activity'].unique(), show_normed=True, figsize=(14,14))"
   ]
  },
  {
   "cell_type": "code",
   "execution_count": null,
   "metadata": {},
   "outputs": [],
   "source": []
  }
 ],
 "metadata": {
  "kernelspec": {
   "display_name": "Python 3",
   "language": "python",
   "name": "python3"
  },
  "language_info": {
   "codemirror_mode": {
    "name": "ipython",
    "version": 3
   },
   "file_extension": ".py",
   "mimetype": "text/x-python",
   "name": "python",
   "nbconvert_exporter": "python",
   "pygments_lexer": "ipython3",
   "version": "3.7.9"
  }
 },
 "nbformat": 4,
 "nbformat_minor": 4
}
