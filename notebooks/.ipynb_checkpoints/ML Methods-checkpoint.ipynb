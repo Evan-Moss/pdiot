{
 "cells": [
  {
   "cell_type": "code",
   "execution_count": 1,
   "metadata": {},
   "outputs": [],
   "source": [
    "import pre_processing as pp\n",
    "from sklearn.ensemble import RandomForestClassifier"
   ]
  },
  {
   "cell_type": "code",
   "execution_count": 5,
   "metadata": {},
   "outputs": [],
   "source": [
    "files = pp.get_files(\"/Users/azamkhan/github/pdiot-practical/pdiot-data/2020/\")\n",
    "data = pp.get_data(\"Chest_Left\", files)"
   ]
  },
  {
   "cell_type": "code",
   "execution_count": 6,
   "metadata": {},
   "outputs": [],
   "source": [
    "data, tgts, students = pp.get_data_by_datapoints(data, points_wanted = 50)\n",
    "tgts = pp.convert_targets(tgts)"
   ]
  },
  {
   "cell_type": "code",
   "execution_count": 7,
   "metadata": {},
   "outputs": [],
   "source": [
    "cleaned_data, targets, student_data, student_targets = pp.leave_one_out(data, tgts, students)"
   ]
  },
  {
   "cell_type": "code",
   "execution_count": 188,
   "metadata": {},
   "outputs": [
    {
     "name": "stdout",
     "output_type": "stream",
     "text": [
      "0.6795580110497238\n"
     ]
    }
   ],
   "source": [
    "clf = RandomForestClassifier()\n",
    "clf.fit(cleaned_data, targets)\n",
    "score = clf.score(student_data, student_targets)\n",
    "print(score)"
   ]
  },
  {
   "cell_type": "code",
   "execution_count": 189,
   "metadata": {},
   "outputs": [
    {
     "data": {
      "text/plain": [
       "(8917, 3, 50)"
      ]
     },
     "execution_count": 189,
     "metadata": {},
     "output_type": "execute_result"
    }
   ],
   "source": [
    "timestep = 50\n",
    "x_train = np.array([[c[0:timestep], c[timestep:2*timestep], c[2*timestep:3*timestep]] for c in cleaned_data])\n",
    "x_test = np.array([[c[0:timestep], c[timestep:2*timestep], c[2*timestep:3*timestep]] for c in student_data])\n",
    "x_train.shape"
   ]
  },
  {
   "cell_type": "code",
   "execution_count": 190,
   "metadata": {},
   "outputs": [],
   "source": [
    "x_train = x_train.reshape(x_train.shape[0],x_train.shape[1],x_train.shape[2],1)"
   ]
  },
  {
   "cell_type": "code",
   "execution_count": 191,
   "metadata": {},
   "outputs": [],
   "source": [
    "x_test = x_test.reshape(x_test.shape[0],x_test.shape[1],x_test.shape[2],1)"
   ]
  },
  {
   "cell_type": "code",
   "execution_count": 192,
   "metadata": {},
   "outputs": [],
   "source": [
    "y_train = targets\n",
    "y_test = student_targets"
   ]
  },
  {
   "cell_type": "code",
   "execution_count": 193,
   "metadata": {},
   "outputs": [
    {
     "data": {
      "text/plain": [
       "(8917, 3, 50, 1)"
      ]
     },
     "execution_count": 193,
     "metadata": {},
     "output_type": "execute_result"
    }
   ],
   "source": [
    "x_train.shape"
   ]
  },
  {
   "cell_type": "code",
   "execution_count": 208,
   "metadata": {},
   "outputs": [],
   "source": [
    "import tensorflow as tf\n",
    "from tensorflow.keras import Sequential\n",
    "from tensorflow.keras.layers import Flatten, Dense, Dropout, BatchNormalization\n",
    "from tensorflow.keras.layers import Conv2D, MaxPool2D, Conv1D, MaxPooling2D\n",
    "from tensorflow.keras.optimizers import Adam\n",
    "from tensorflow import keras\n",
    "\n",
    "import pandas as pd\n",
    "import glob\n",
    "import matplotlib.pyplot as plt\n",
    "import numpy as np\n",
    "from sklearn.model_selection import train_test_split\n",
    "from sklearn.preprocessing import StandardScaler, LabelEncoder\n",
    "\n",
    "model = Sequential()\n",
    "model.add(Conv2D(128, (2,2), activation='relu', input_shape = x_train[0].shape))\n",
    "model.add(Dropout(0.2))\n",
    "\n",
    "model.add(Conv2D(128, (2,2), activation='relu'))\n",
    "model.add(Dropout(0.5))\n",
    "model.add(MaxPooling2D(pool_size=1))\n",
    "model.add(Flatten())\n",
    "model.add(Dense(100, activation='relu'))\n",
    "model.add(Dropout(0.5))\n",
    "\n",
    "model.add(Dense(14, activation='softmax'))"
   ]
  },
  {
   "cell_type": "code",
   "execution_count": 209,
   "metadata": {},
   "outputs": [],
   "source": [
    "model.compile(optimizer=Adam(learning_rate=0.001), loss='sparse_categorical_crossentropy', metrics = ['accuracy'])"
   ]
  },
  {
   "cell_type": "code",
   "execution_count": 210,
   "metadata": {},
   "outputs": [
    {
     "name": "stdout",
     "output_type": "stream",
     "text": [
      "Epoch 1/20\n",
      "558/558 [==============================] - 7s 13ms/step - loss: 1.5735 - accuracy: 0.4729 - val_loss: 0.7529 - val_accuracy: 0.7315\n",
      "Epoch 2/20\n",
      "558/558 [==============================] - 7s 13ms/step - loss: 1.1442 - accuracy: 0.5871 - val_loss: 0.5569 - val_accuracy: 0.8188\n",
      "Epoch 3/20\n",
      "558/558 [==============================] - 7s 13ms/step - loss: 1.0329 - accuracy: 0.6168 - val_loss: 0.5020 - val_accuracy: 0.8376\n",
      "Epoch 4/20\n",
      "558/558 [==============================] - 7s 13ms/step - loss: 0.9745 - accuracy: 0.6341 - val_loss: 0.7358 - val_accuracy: 0.6928\n",
      "Epoch 5/20\n",
      "558/558 [==============================] - 7s 13ms/step - loss: 0.9259 - accuracy: 0.6461 - val_loss: 0.5107 - val_accuracy: 0.8729\n",
      "Epoch 6/20\n",
      "558/558 [==============================] - 8s 14ms/step - loss: 0.8743 - accuracy: 0.6572 - val_loss: 0.5544 - val_accuracy: 0.8110\n",
      "Epoch 7/20\n",
      "558/558 [==============================] - 7s 13ms/step - loss: 0.8469 - accuracy: 0.6784 - val_loss: 1.0840 - val_accuracy: 0.7215\n",
      "Epoch 8/20\n",
      "558/558 [==============================] - 7s 13ms/step - loss: 0.8232 - accuracy: 0.6838 - val_loss: 0.5369 - val_accuracy: 0.8497\n",
      "Epoch 9/20\n",
      "558/558 [==============================] - 7s 13ms/step - loss: 0.7736 - accuracy: 0.6963 - val_loss: 0.5697 - val_accuracy: 0.8287\n",
      "Epoch 10/20\n",
      "558/558 [==============================] - 8s 14ms/step - loss: 0.7645 - accuracy: 0.7056 - val_loss: 0.6470 - val_accuracy: 0.7459\n",
      "Epoch 11/20\n",
      "558/558 [==============================] - 8s 14ms/step - loss: 0.7542 - accuracy: 0.7066 - val_loss: 0.6221 - val_accuracy: 0.8276\n",
      "Epoch 12/20\n",
      "558/558 [==============================] - 8s 14ms/step - loss: 0.7268 - accuracy: 0.7163 - val_loss: 0.5617 - val_accuracy: 0.8110\n",
      "Epoch 13/20\n",
      "558/558 [==============================] - 8s 14ms/step - loss: 0.6986 - accuracy: 0.7289 - val_loss: 0.6332 - val_accuracy: 0.7713\n",
      "Epoch 14/20\n",
      "558/558 [==============================] - 8s 14ms/step - loss: 0.7026 - accuracy: 0.7266 - val_loss: 0.5830 - val_accuracy: 0.7878\n",
      "Epoch 15/20\n",
      "558/558 [==============================] - 8s 13ms/step - loss: 0.6817 - accuracy: 0.7298 - val_loss: 0.5760 - val_accuracy: 0.8254\n",
      "Epoch 16/20\n",
      "558/558 [==============================] - 8s 14ms/step - loss: 0.6769 - accuracy: 0.7352 - val_loss: 0.6680 - val_accuracy: 0.7757\n",
      "Epoch 17/20\n",
      "558/558 [==============================] - 7s 13ms/step - loss: 0.6505 - accuracy: 0.7455 - val_loss: 0.7015 - val_accuracy: 0.7337\n",
      "Epoch 18/20\n",
      "558/558 [==============================] - 8s 15ms/step - loss: 0.6301 - accuracy: 0.7579 - val_loss: 0.7325 - val_accuracy: 0.7304\n",
      "Epoch 19/20\n",
      "558/558 [==============================] - 8s 14ms/step - loss: 0.6226 - accuracy: 0.7601 - val_loss: 0.6870 - val_accuracy: 0.7635\n",
      "Epoch 20/20\n",
      "558/558 [==============================] - 8s 14ms/step - loss: 0.6189 - accuracy: 0.7590 - val_loss: 0.6709 - val_accuracy: 0.7768\n"
     ]
    }
   ],
   "source": [
    "history = model.fit(x_train, y_train, epochs=20, batch_size = 16, validation_data = (x_test, y_test), verbose=1)"
   ]
  },
  {
   "cell_type": "code",
   "execution_count": null,
   "metadata": {},
   "outputs": [],
   "source": []
  }
 ],
 "metadata": {
  "kernelspec": {
   "display_name": "Python 3",
   "language": "python",
   "name": "python3"
  },
  "language_info": {
   "codemirror_mode": {
    "name": "ipython",
    "version": 3
   },
   "file_extension": ".py",
   "mimetype": "text/x-python",
   "name": "python",
   "nbconvert_exporter": "python",
   "pygments_lexer": "ipython3",
   "version": "3.7.9"
  }
 },
 "nbformat": 4,
 "nbformat_minor": 4
}
