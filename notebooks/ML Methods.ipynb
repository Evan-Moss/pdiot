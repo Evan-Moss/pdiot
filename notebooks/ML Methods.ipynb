{
 "cells": [
  {
   "cell_type": "code",
   "execution_count": 1,
   "metadata": {},
   "outputs": [],
   "source": [
    "import pre_processing as pp\n",
    "import numpy as np\n",
    "import pandas as pd"
   ]
  },
  {
   "cell_type": "code",
   "execution_count": 2,
   "metadata": {},
   "outputs": [],
   "source": [
    "import tensorflow as tf\n",
    "from tensorflow.keras import Sequential\n",
    "from tensorflow.keras.layers import Flatten, Dense, Dropout, BatchNormalization, LSTM, TimeDistributed, Reshape\n",
    "from tensorflow.keras.layers import Conv2D, MaxPool2D, Conv1D, MaxPooling2D, MaxPooling1D, ConvLSTM2D\n",
    "from tensorflow.keras.optimizers import Adam\n",
    "from tensorflow.keras.regularizers import l2\n",
    "from tensorflow import keras\n",
    "\n",
    "import pandas as pd\n",
    "import glob\n",
    "import matplotlib.pyplot as plt\n",
    "import numpy as np\n",
    "from sklearn.model_selection import train_test_split\n",
    "from sklearn.preprocessing import StandardScaler, LabelEncoder"
   ]
  },
  {
   "cell_type": "code",
   "execution_count": 3,
   "metadata": {},
   "outputs": [],
   "source": [
    "from mlxtend.plotting import plot_confusion_matrix\n",
    "from sklearn.metrics import confusion_matrix"
   ]
  },
  {
   "cell_type": "code",
   "execution_count": 19,
   "metadata": {},
   "outputs": [],
   "source": [
    "files = pp.get_files(\"/Users/azamkhan/github/pdiot-practical/pdiot-data/2020\")\n",
    "data = pp.get_data(\"Chest_Left\", files)"
   ]
  },
  {
   "cell_type": "code",
   "execution_count": 20,
   "metadata": {},
   "outputs": [],
   "source": [
    "data, tgts, students = pp.get_data_by_datapoints(data, points_wanted = 25)\n",
    "tgts = pp.convert_targets(tgts)"
   ]
  },
  {
   "cell_type": "code",
   "execution_count": 21,
   "metadata": {},
   "outputs": [],
   "source": [
    "scaler = StandardScaler()\n",
    "data = scaler.fit_transform(data)"
   ]
  },
  {
   "cell_type": "code",
   "execution_count": 22,
   "metadata": {},
   "outputs": [],
   "source": [
    "def balance_classes(data, tgts, students):\n",
    "    un = np.unique(tgts, return_counts=True)\n",
    "    m = np.min(un[1])\n",
    "    balanced = []\n",
    "    for u in un[0]:\n",
    "        ts = np.argwhere(tgts==u)\n",
    "        randinds = list(np.random.choice(ts.flatten(),m))\n",
    "        balanced += randinds\n",
    "\n",
    "    data = data[balanced]\n",
    "    tgts = tgts[balanced]\n",
    "    students = students[balanced]\n",
    "    return np.array(data), np.array(tgts), np.array(students)"
   ]
  },
  {
   "cell_type": "code",
   "execution_count": 23,
   "metadata": {},
   "outputs": [],
   "source": [
    "data, tgts, students = balance_classes(data, tgts, students)"
   ]
  },
  {
   "cell_type": "code",
   "execution_count": 24,
   "metadata": {},
   "outputs": [],
   "source": [
    "cleaned_data, targets, student_data, student_targets = pp.leave_one_out(data, tgts, students)"
   ]
  },
  {
   "cell_type": "code",
   "execution_count": 25,
   "metadata": {},
   "outputs": [
    {
     "data": {
      "text/plain": [
       "array([[-0.09046063, -0.08608926, -0.09936646, ...,  0.56206002,\n",
       "         0.55548642,  0.57603666],\n",
       "       [ 0.03389961,  0.03181328,  0.02908172, ..., -0.0450599 ,\n",
       "        -0.04326826, -0.04748878],\n",
       "       [ 2.16757362,  2.17198872,  2.17677908, ..., -0.23121687,\n",
       "        -0.22631753, -0.23231067],\n",
       "       ...,\n",
       "       [ 0.19138637, -0.52998957,  0.27944684, ...,  0.17534994,\n",
       "         0.06586681,  0.25458568],\n",
       "       [ 0.12350414,  0.24805848,  0.10854544, ...,  0.5213537 ,\n",
       "         0.5182813 ,  0.52933433],\n",
       "       [ 2.00682857,  1.99812324,  1.9988021 , ...,  0.85991115,\n",
       "         0.82633982,  0.82047847]])"
      ]
     },
     "execution_count": 25,
     "metadata": {},
     "output_type": "execute_result"
    }
   ],
   "source": [
    "cleaned_data"
   ]
  },
  {
   "cell_type": "code",
   "execution_count": 26,
   "metadata": {},
   "outputs": [],
   "source": [
    "timestep = 25\n",
    "x_train = np.array([[c[0:timestep], c[timestep:2*timestep], c[2*timestep:3*timestep]] for c in cleaned_data])\n",
    "x_test = np.array([[c[0:timestep], c[timestep:2*timestep], c[2*timestep:3*timestep]] for c in student_data])"
   ]
  },
  {
   "cell_type": "code",
   "execution_count": 27,
   "metadata": {},
   "outputs": [],
   "source": [
    "y_train = targets\n",
    "y_test = student_targets"
   ]
  },
  {
   "cell_type": "code",
   "execution_count": 28,
   "metadata": {},
   "outputs": [
    {
     "data": {
      "text/plain": [
       "3055"
      ]
     },
     "execution_count": 28,
     "metadata": {},
     "output_type": "execute_result"
    }
   ],
   "source": [
    "len(x_test)"
   ]
  },
  {
   "cell_type": "code",
   "execution_count": 29,
   "metadata": {},
   "outputs": [
    {
     "data": {
      "text/plain": [
       "(12194, 3, 25)"
      ]
     },
     "execution_count": 29,
     "metadata": {},
     "output_type": "execute_result"
    }
   ],
   "source": [
    "x_train.shape"
   ]
  },
  {
   "cell_type": "code",
   "execution_count": 30,
   "metadata": {},
   "outputs": [
    {
     "data": {
      "text/plain": [
       "(3, 25)"
      ]
     },
     "execution_count": 30,
     "metadata": {},
     "output_type": "execute_result"
    }
   ],
   "source": [
    "x_train[0].shape"
   ]
  },
  {
   "cell_type": "markdown",
   "metadata": {},
   "source": [
    "## CNN - 2 layers -16/32U"
   ]
  },
  {
   "cell_type": "code",
   "execution_count": 34,
   "metadata": {},
   "outputs": [],
   "source": [
    "model = Sequential()\n",
    "model.add(tf.keras.layers.Reshape((3, 25, 1), input_shape=(3,25)))\n",
    "model.add(Conv2D(16, (2,2), activation='relu', input_shape = model.output_shape))\n",
    "model.add(Dropout(0.2))\n",
    "model.add(Conv2D(32, (2,2), activation='relu'))\n",
    "model.add(Dropout(0.5))\n",
    "model.add(MaxPooling2D(pool_size=1))\n",
    "model.add(Flatten())\n",
    "model.add(Dense(100, activation='relu'))\n",
    "model.add(Dropout(0.5))\n",
    "\n",
    "model.add(Dense(13, activation='softmax'))"
   ]
  },
  {
   "cell_type": "code",
   "execution_count": 35,
   "metadata": {},
   "outputs": [],
   "source": [
    "model.compile(optimizer=Adam(learning_rate=0.001), loss='sparse_categorical_crossentropy', metrics = ['accuracy'])"
   ]
  },
  {
   "cell_type": "code",
   "execution_count": 36,
   "metadata": {},
   "outputs": [
    {
     "name": "stdout",
     "output_type": "stream",
     "text": [
      "Train on 12194 samples, validate on 3055 samples\n",
      "Epoch 1/10\n",
      "12194/12194 [==============================] - 8s 670us/sample - loss: 1.8519 - accuracy: 0.3810 - val_loss: 1.4222 - val_accuracy: 0.5257\n",
      "Epoch 2/10\n",
      "12194/12194 [==============================] - 6s 525us/sample - loss: 1.3051 - accuracy: 0.5425 - val_loss: 1.3055 - val_accuracy: 0.5093\n",
      "Epoch 3/10\n",
      " 3392/12194 [=======>......................] - ETA: 4s - loss: 1.1699 - accuracy: 0.5646"
     ]
    },
    {
     "ename": "KeyboardInterrupt",
     "evalue": "",
     "output_type": "error",
     "traceback": [
      "\u001b[0;31m---------------------------------------------------------------------------\u001b[0m",
      "\u001b[0;31mKeyboardInterrupt\u001b[0m                         Traceback (most recent call last)",
      "\u001b[0;32m<ipython-input-36-dc6e7688eb98>\u001b[0m in \u001b[0;36m<module>\u001b[0;34m\u001b[0m\n\u001b[0;32m----> 1\u001b[0;31m \u001b[0mhistory\u001b[0m \u001b[0;34m=\u001b[0m \u001b[0mmodel\u001b[0m\u001b[0;34m.\u001b[0m\u001b[0mfit\u001b[0m\u001b[0;34m(\u001b[0m\u001b[0mx_train\u001b[0m\u001b[0;34m,\u001b[0m \u001b[0my_train\u001b[0m\u001b[0;34m,\u001b[0m \u001b[0mepochs\u001b[0m\u001b[0;34m=\u001b[0m\u001b[0;36m10\u001b[0m\u001b[0;34m,\u001b[0m \u001b[0mbatch_size\u001b[0m \u001b[0;34m=\u001b[0m \u001b[0;36m32\u001b[0m\u001b[0;34m,\u001b[0m \u001b[0mvalidation_data\u001b[0m \u001b[0;34m=\u001b[0m \u001b[0;34m(\u001b[0m\u001b[0mx_test\u001b[0m\u001b[0;34m,\u001b[0m \u001b[0my_test\u001b[0m\u001b[0;34m)\u001b[0m\u001b[0;34m,\u001b[0m \u001b[0mverbose\u001b[0m\u001b[0;34m=\u001b[0m\u001b[0;36m1\u001b[0m\u001b[0;34m)\u001b[0m\u001b[0;34m\u001b[0m\u001b[0;34m\u001b[0m\u001b[0m\n\u001b[0m",
      "\u001b[0;32m~/miniconda3/envs/pdiot/lib/python3.7/site-packages/tensorflow_core/python/keras/engine/training.py\u001b[0m in \u001b[0;36mfit\u001b[0;34m(self, x, y, batch_size, epochs, verbose, callbacks, validation_split, validation_data, shuffle, class_weight, sample_weight, initial_epoch, steps_per_epoch, validation_steps, validation_freq, max_queue_size, workers, use_multiprocessing, **kwargs)\u001b[0m\n\u001b[1;32m    726\u001b[0m         \u001b[0mmax_queue_size\u001b[0m\u001b[0;34m=\u001b[0m\u001b[0mmax_queue_size\u001b[0m\u001b[0;34m,\u001b[0m\u001b[0;34m\u001b[0m\u001b[0;34m\u001b[0m\u001b[0m\n\u001b[1;32m    727\u001b[0m         \u001b[0mworkers\u001b[0m\u001b[0;34m=\u001b[0m\u001b[0mworkers\u001b[0m\u001b[0;34m,\u001b[0m\u001b[0;34m\u001b[0m\u001b[0;34m\u001b[0m\u001b[0m\n\u001b[0;32m--> 728\u001b[0;31m         use_multiprocessing=use_multiprocessing)\n\u001b[0m\u001b[1;32m    729\u001b[0m \u001b[0;34m\u001b[0m\u001b[0m\n\u001b[1;32m    730\u001b[0m   def evaluate(self,\n",
      "\u001b[0;32m~/miniconda3/envs/pdiot/lib/python3.7/site-packages/tensorflow_core/python/keras/engine/training_v2.py\u001b[0m in \u001b[0;36mfit\u001b[0;34m(self, model, x, y, batch_size, epochs, verbose, callbacks, validation_split, validation_data, shuffle, class_weight, sample_weight, initial_epoch, steps_per_epoch, validation_steps, validation_freq, **kwargs)\u001b[0m\n\u001b[1;32m    322\u001b[0m                 \u001b[0mmode\u001b[0m\u001b[0;34m=\u001b[0m\u001b[0mModeKeys\u001b[0m\u001b[0;34m.\u001b[0m\u001b[0mTRAIN\u001b[0m\u001b[0;34m,\u001b[0m\u001b[0;34m\u001b[0m\u001b[0;34m\u001b[0m\u001b[0m\n\u001b[1;32m    323\u001b[0m                 \u001b[0mtraining_context\u001b[0m\u001b[0;34m=\u001b[0m\u001b[0mtraining_context\u001b[0m\u001b[0;34m,\u001b[0m\u001b[0;34m\u001b[0m\u001b[0;34m\u001b[0m\u001b[0m\n\u001b[0;32m--> 324\u001b[0;31m                 total_epochs=epochs)\n\u001b[0m\u001b[1;32m    325\u001b[0m             \u001b[0mcbks\u001b[0m\u001b[0;34m.\u001b[0m\u001b[0mmake_logs\u001b[0m\u001b[0;34m(\u001b[0m\u001b[0mmodel\u001b[0m\u001b[0;34m,\u001b[0m \u001b[0mepoch_logs\u001b[0m\u001b[0;34m,\u001b[0m \u001b[0mtraining_result\u001b[0m\u001b[0;34m,\u001b[0m \u001b[0mModeKeys\u001b[0m\u001b[0;34m.\u001b[0m\u001b[0mTRAIN\u001b[0m\u001b[0;34m)\u001b[0m\u001b[0;34m\u001b[0m\u001b[0;34m\u001b[0m\u001b[0m\n\u001b[1;32m    326\u001b[0m \u001b[0;34m\u001b[0m\u001b[0m\n",
      "\u001b[0;32m~/miniconda3/envs/pdiot/lib/python3.7/site-packages/tensorflow_core/python/keras/engine/training_v2.py\u001b[0m in \u001b[0;36mrun_one_epoch\u001b[0;34m(model, iterator, execution_function, dataset_size, batch_size, strategy, steps_per_epoch, num_samples, mode, training_context, total_epochs)\u001b[0m\n\u001b[1;32m    121\u001b[0m         step=step, mode=mode, size=current_batch_size) as batch_logs:\n\u001b[1;32m    122\u001b[0m       \u001b[0;32mtry\u001b[0m\u001b[0;34m:\u001b[0m\u001b[0;34m\u001b[0m\u001b[0;34m\u001b[0m\u001b[0m\n\u001b[0;32m--> 123\u001b[0;31m         \u001b[0mbatch_outs\u001b[0m \u001b[0;34m=\u001b[0m \u001b[0mexecution_function\u001b[0m\u001b[0;34m(\u001b[0m\u001b[0miterator\u001b[0m\u001b[0;34m)\u001b[0m\u001b[0;34m\u001b[0m\u001b[0;34m\u001b[0m\u001b[0m\n\u001b[0m\u001b[1;32m    124\u001b[0m       \u001b[0;32mexcept\u001b[0m \u001b[0;34m(\u001b[0m\u001b[0mStopIteration\u001b[0m\u001b[0;34m,\u001b[0m \u001b[0merrors\u001b[0m\u001b[0;34m.\u001b[0m\u001b[0mOutOfRangeError\u001b[0m\u001b[0;34m)\u001b[0m\u001b[0;34m:\u001b[0m\u001b[0;34m\u001b[0m\u001b[0;34m\u001b[0m\u001b[0m\n\u001b[1;32m    125\u001b[0m         \u001b[0;31m# TODO(kaftan): File bug about tf function and errors.OutOfRangeError?\u001b[0m\u001b[0;34m\u001b[0m\u001b[0;34m\u001b[0m\u001b[0;34m\u001b[0m\u001b[0m\n",
      "\u001b[0;32m~/miniconda3/envs/pdiot/lib/python3.7/site-packages/tensorflow_core/python/keras/engine/training_v2_utils.py\u001b[0m in \u001b[0;36mexecution_function\u001b[0;34m(input_fn)\u001b[0m\n\u001b[1;32m     84\u001b[0m     \u001b[0;31m# `numpy` translates Tensors to values in Eager mode.\u001b[0m\u001b[0;34m\u001b[0m\u001b[0;34m\u001b[0m\u001b[0;34m\u001b[0m\u001b[0m\n\u001b[1;32m     85\u001b[0m     return nest.map_structure(_non_none_constant_value,\n\u001b[0;32m---> 86\u001b[0;31m                               distributed_function(input_fn))\n\u001b[0m\u001b[1;32m     87\u001b[0m \u001b[0;34m\u001b[0m\u001b[0m\n\u001b[1;32m     88\u001b[0m   \u001b[0;32mreturn\u001b[0m \u001b[0mexecution_function\u001b[0m\u001b[0;34m\u001b[0m\u001b[0;34m\u001b[0m\u001b[0m\n",
      "\u001b[0;32m~/miniconda3/envs/pdiot/lib/python3.7/site-packages/tensorflow_core/python/eager/def_function.py\u001b[0m in \u001b[0;36m__call__\u001b[0;34m(self, *args, **kwds)\u001b[0m\n\u001b[1;32m    455\u001b[0m \u001b[0;34m\u001b[0m\u001b[0m\n\u001b[1;32m    456\u001b[0m     \u001b[0mtracing_count\u001b[0m \u001b[0;34m=\u001b[0m \u001b[0mself\u001b[0m\u001b[0;34m.\u001b[0m\u001b[0m_get_tracing_count\u001b[0m\u001b[0;34m(\u001b[0m\u001b[0;34m)\u001b[0m\u001b[0;34m\u001b[0m\u001b[0;34m\u001b[0m\u001b[0m\n\u001b[0;32m--> 457\u001b[0;31m     \u001b[0mresult\u001b[0m \u001b[0;34m=\u001b[0m \u001b[0mself\u001b[0m\u001b[0;34m.\u001b[0m\u001b[0m_call\u001b[0m\u001b[0;34m(\u001b[0m\u001b[0;34m*\u001b[0m\u001b[0margs\u001b[0m\u001b[0;34m,\u001b[0m \u001b[0;34m**\u001b[0m\u001b[0mkwds\u001b[0m\u001b[0;34m)\u001b[0m\u001b[0;34m\u001b[0m\u001b[0;34m\u001b[0m\u001b[0m\n\u001b[0m\u001b[1;32m    458\u001b[0m     \u001b[0;32mif\u001b[0m \u001b[0mtracing_count\u001b[0m \u001b[0;34m==\u001b[0m \u001b[0mself\u001b[0m\u001b[0;34m.\u001b[0m\u001b[0m_get_tracing_count\u001b[0m\u001b[0;34m(\u001b[0m\u001b[0;34m)\u001b[0m\u001b[0;34m:\u001b[0m\u001b[0;34m\u001b[0m\u001b[0;34m\u001b[0m\u001b[0m\n\u001b[1;32m    459\u001b[0m       \u001b[0mself\u001b[0m\u001b[0;34m.\u001b[0m\u001b[0m_call_counter\u001b[0m\u001b[0;34m.\u001b[0m\u001b[0mcalled_without_tracing\u001b[0m\u001b[0;34m(\u001b[0m\u001b[0;34m)\u001b[0m\u001b[0;34m\u001b[0m\u001b[0;34m\u001b[0m\u001b[0m\n",
      "\u001b[0;32m~/miniconda3/envs/pdiot/lib/python3.7/site-packages/tensorflow_core/python/eager/def_function.py\u001b[0m in \u001b[0;36m_call\u001b[0;34m(self, *args, **kwds)\u001b[0m\n\u001b[1;32m    485\u001b[0m       \u001b[0;31m# In this case we have created variables on the first call, so we run the\u001b[0m\u001b[0;34m\u001b[0m\u001b[0;34m\u001b[0m\u001b[0;34m\u001b[0m\u001b[0m\n\u001b[1;32m    486\u001b[0m       \u001b[0;31m# defunned version which is guaranteed to never create variables.\u001b[0m\u001b[0;34m\u001b[0m\u001b[0;34m\u001b[0m\u001b[0;34m\u001b[0m\u001b[0m\n\u001b[0;32m--> 487\u001b[0;31m       \u001b[0;32mreturn\u001b[0m \u001b[0mself\u001b[0m\u001b[0;34m.\u001b[0m\u001b[0m_stateless_fn\u001b[0m\u001b[0;34m(\u001b[0m\u001b[0;34m*\u001b[0m\u001b[0margs\u001b[0m\u001b[0;34m,\u001b[0m \u001b[0;34m**\u001b[0m\u001b[0mkwds\u001b[0m\u001b[0;34m)\u001b[0m  \u001b[0;31m# pylint: disable=not-callable\u001b[0m\u001b[0;34m\u001b[0m\u001b[0;34m\u001b[0m\u001b[0m\n\u001b[0m\u001b[1;32m    488\u001b[0m     \u001b[0;32melif\u001b[0m \u001b[0mself\u001b[0m\u001b[0;34m.\u001b[0m\u001b[0m_stateful_fn\u001b[0m \u001b[0;32mis\u001b[0m \u001b[0;32mnot\u001b[0m \u001b[0;32mNone\u001b[0m\u001b[0;34m:\u001b[0m\u001b[0;34m\u001b[0m\u001b[0;34m\u001b[0m\u001b[0m\n\u001b[1;32m    489\u001b[0m       \u001b[0;31m# Release the lock early so that multiple threads can perform the call\u001b[0m\u001b[0;34m\u001b[0m\u001b[0;34m\u001b[0m\u001b[0;34m\u001b[0m\u001b[0m\n",
      "\u001b[0;32m~/miniconda3/envs/pdiot/lib/python3.7/site-packages/tensorflow_core/python/eager/function.py\u001b[0m in \u001b[0;36m__call__\u001b[0;34m(self, *args, **kwargs)\u001b[0m\n\u001b[1;32m   1821\u001b[0m     \u001b[0;34m\"\"\"Calls a graph function specialized to the inputs.\"\"\"\u001b[0m\u001b[0;34m\u001b[0m\u001b[0;34m\u001b[0m\u001b[0m\n\u001b[1;32m   1822\u001b[0m     \u001b[0mgraph_function\u001b[0m\u001b[0;34m,\u001b[0m \u001b[0margs\u001b[0m\u001b[0;34m,\u001b[0m \u001b[0mkwargs\u001b[0m \u001b[0;34m=\u001b[0m \u001b[0mself\u001b[0m\u001b[0;34m.\u001b[0m\u001b[0m_maybe_define_function\u001b[0m\u001b[0;34m(\u001b[0m\u001b[0margs\u001b[0m\u001b[0;34m,\u001b[0m \u001b[0mkwargs\u001b[0m\u001b[0;34m)\u001b[0m\u001b[0;34m\u001b[0m\u001b[0;34m\u001b[0m\u001b[0m\n\u001b[0;32m-> 1823\u001b[0;31m     \u001b[0;32mreturn\u001b[0m \u001b[0mgraph_function\u001b[0m\u001b[0;34m.\u001b[0m\u001b[0m_filtered_call\u001b[0m\u001b[0;34m(\u001b[0m\u001b[0margs\u001b[0m\u001b[0;34m,\u001b[0m \u001b[0mkwargs\u001b[0m\u001b[0;34m)\u001b[0m  \u001b[0;31m# pylint: disable=protected-access\u001b[0m\u001b[0;34m\u001b[0m\u001b[0;34m\u001b[0m\u001b[0m\n\u001b[0m\u001b[1;32m   1824\u001b[0m \u001b[0;34m\u001b[0m\u001b[0m\n\u001b[1;32m   1825\u001b[0m   \u001b[0;34m@\u001b[0m\u001b[0mproperty\u001b[0m\u001b[0;34m\u001b[0m\u001b[0;34m\u001b[0m\u001b[0m\n",
      "\u001b[0;32m~/miniconda3/envs/pdiot/lib/python3.7/site-packages/tensorflow_core/python/eager/function.py\u001b[0m in \u001b[0;36m_filtered_call\u001b[0;34m(self, args, kwargs)\u001b[0m\n\u001b[1;32m   1139\u001b[0m          if isinstance(t, (ops.Tensor,\n\u001b[1;32m   1140\u001b[0m                            resource_variable_ops.BaseResourceVariable))),\n\u001b[0;32m-> 1141\u001b[0;31m         self.captured_inputs)\n\u001b[0m\u001b[1;32m   1142\u001b[0m \u001b[0;34m\u001b[0m\u001b[0m\n\u001b[1;32m   1143\u001b[0m   \u001b[0;32mdef\u001b[0m \u001b[0m_call_flat\u001b[0m\u001b[0;34m(\u001b[0m\u001b[0mself\u001b[0m\u001b[0;34m,\u001b[0m \u001b[0margs\u001b[0m\u001b[0;34m,\u001b[0m \u001b[0mcaptured_inputs\u001b[0m\u001b[0;34m,\u001b[0m \u001b[0mcancellation_manager\u001b[0m\u001b[0;34m=\u001b[0m\u001b[0;32mNone\u001b[0m\u001b[0;34m)\u001b[0m\u001b[0;34m:\u001b[0m\u001b[0;34m\u001b[0m\u001b[0;34m\u001b[0m\u001b[0m\n",
      "\u001b[0;32m~/miniconda3/envs/pdiot/lib/python3.7/site-packages/tensorflow_core/python/eager/function.py\u001b[0m in \u001b[0;36m_call_flat\u001b[0;34m(self, args, captured_inputs, cancellation_manager)\u001b[0m\n\u001b[1;32m   1222\u001b[0m     \u001b[0;32mif\u001b[0m \u001b[0mexecuting_eagerly\u001b[0m\u001b[0;34m:\u001b[0m\u001b[0;34m\u001b[0m\u001b[0;34m\u001b[0m\u001b[0m\n\u001b[1;32m   1223\u001b[0m       flat_outputs = forward_function.call(\n\u001b[0;32m-> 1224\u001b[0;31m           ctx, args, cancellation_manager=cancellation_manager)\n\u001b[0m\u001b[1;32m   1225\u001b[0m     \u001b[0;32melse\u001b[0m\u001b[0;34m:\u001b[0m\u001b[0;34m\u001b[0m\u001b[0;34m\u001b[0m\u001b[0m\n\u001b[1;32m   1226\u001b[0m       \u001b[0mgradient_name\u001b[0m \u001b[0;34m=\u001b[0m \u001b[0mself\u001b[0m\u001b[0;34m.\u001b[0m\u001b[0m_delayed_rewrite_functions\u001b[0m\u001b[0;34m.\u001b[0m\u001b[0mregister\u001b[0m\u001b[0;34m(\u001b[0m\u001b[0;34m)\u001b[0m\u001b[0;34m\u001b[0m\u001b[0;34m\u001b[0m\u001b[0m\n",
      "\u001b[0;32m~/miniconda3/envs/pdiot/lib/python3.7/site-packages/tensorflow_core/python/eager/function.py\u001b[0m in \u001b[0;36mcall\u001b[0;34m(self, ctx, args, cancellation_manager)\u001b[0m\n\u001b[1;32m    509\u001b[0m               \u001b[0minputs\u001b[0m\u001b[0;34m=\u001b[0m\u001b[0margs\u001b[0m\u001b[0;34m,\u001b[0m\u001b[0;34m\u001b[0m\u001b[0;34m\u001b[0m\u001b[0m\n\u001b[1;32m    510\u001b[0m               \u001b[0mattrs\u001b[0m\u001b[0;34m=\u001b[0m\u001b[0;34m(\u001b[0m\u001b[0;34m\"executor_type\"\u001b[0m\u001b[0;34m,\u001b[0m \u001b[0mexecutor_type\u001b[0m\u001b[0;34m,\u001b[0m \u001b[0;34m\"config_proto\"\u001b[0m\u001b[0;34m,\u001b[0m \u001b[0mconfig\u001b[0m\u001b[0;34m)\u001b[0m\u001b[0;34m,\u001b[0m\u001b[0;34m\u001b[0m\u001b[0;34m\u001b[0m\u001b[0m\n\u001b[0;32m--> 511\u001b[0;31m               ctx=ctx)\n\u001b[0m\u001b[1;32m    512\u001b[0m         \u001b[0;32melse\u001b[0m\u001b[0;34m:\u001b[0m\u001b[0;34m\u001b[0m\u001b[0;34m\u001b[0m\u001b[0m\n\u001b[1;32m    513\u001b[0m           outputs = execute.execute_with_cancellation(\n",
      "\u001b[0;32m~/miniconda3/envs/pdiot/lib/python3.7/site-packages/tensorflow_core/python/eager/execute.py\u001b[0m in \u001b[0;36mquick_execute\u001b[0;34m(op_name, num_outputs, inputs, attrs, ctx, name)\u001b[0m\n\u001b[1;32m     59\u001b[0m     tensors = pywrap_tensorflow.TFE_Py_Execute(ctx._handle, device_name,\n\u001b[1;32m     60\u001b[0m                                                \u001b[0mop_name\u001b[0m\u001b[0;34m,\u001b[0m \u001b[0minputs\u001b[0m\u001b[0;34m,\u001b[0m \u001b[0mattrs\u001b[0m\u001b[0;34m,\u001b[0m\u001b[0;34m\u001b[0m\u001b[0;34m\u001b[0m\u001b[0m\n\u001b[0;32m---> 61\u001b[0;31m                                                num_outputs)\n\u001b[0m\u001b[1;32m     62\u001b[0m   \u001b[0;32mexcept\u001b[0m \u001b[0mcore\u001b[0m\u001b[0;34m.\u001b[0m\u001b[0m_NotOkStatusException\u001b[0m \u001b[0;32mas\u001b[0m \u001b[0me\u001b[0m\u001b[0;34m:\u001b[0m\u001b[0;34m\u001b[0m\u001b[0;34m\u001b[0m\u001b[0m\n\u001b[1;32m     63\u001b[0m     \u001b[0;32mif\u001b[0m \u001b[0mname\u001b[0m \u001b[0;32mis\u001b[0m \u001b[0;32mnot\u001b[0m \u001b[0;32mNone\u001b[0m\u001b[0;34m:\u001b[0m\u001b[0;34m\u001b[0m\u001b[0;34m\u001b[0m\u001b[0m\n",
      "\u001b[0;31mKeyboardInterrupt\u001b[0m: "
     ]
    }
   ],
   "source": [
    "history = model.fit(x_train, y_train, epochs=25, batch_size = 32, validation_data = (x_test, y_test), verbose=1)"
   ]
  },
  {
   "cell_type": "markdown",
   "metadata": {},
   "source": [
    "# CNN 2 Layers - 128/128U"
   ]
  },
  {
   "cell_type": "code",
   "execution_count": null,
   "metadata": {},
   "outputs": [],
   "source": [
    "model = Sequential()\n",
    "model.add(tf.keras.layers.Reshape((3, 25, 1), input_shape=(3,25)))\n",
    "model.add(Conv2D(128, (2,2), activation='relu', input_shape = model.output_shape))\n",
    "model.add(Dropout(0.2))\n",
    "model.add(Conv2D(128, (2,2), activation='relu'))\n",
    "model.add(Dropout(0.5))\n",
    "model.add(MaxPooling2D(pool_size=1))\n",
    "model.add(Flatten())\n",
    "model.add(Dense(100, activation='relu'))\n",
    "model.add(Dropout(0.5))\n",
    "\n",
    "model.add(Dense(13, activation='softmax'))"
   ]
  },
  {
   "cell_type": "code",
   "execution_count": null,
   "metadata": {},
   "outputs": [],
   "source": [
    "model.compile(optimizer=Adam(learning_rate=0.001), loss='sparse_categorical_crossentropy', metrics = ['accuracy'])"
   ]
  },
  {
   "cell_type": "code",
   "execution_count": null,
   "metadata": {},
   "outputs": [],
   "source": [
    "history = model.fit(x_train, y_train, epochs=25, batch_size = 32, validation_data = (x_test, y_test), verbose=1)"
   ]
  },
  {
   "cell_type": "markdown",
   "metadata": {},
   "source": [
    "# CNN using L2 w/wo Dropout 2 layers -128/128U"
   ]
  },
  {
   "cell_type": "code",
   "execution_count": null,
   "metadata": {},
   "outputs": [],
   "source": [
    "model = Sequential()\n",
    "model.add(tf.keras.layers.Reshape((3, 25, 1), input_shape=(3,25)))\n",
    "model.add(Conv2D(128, (2,2), activation='relu', input_shape = model.output_shape, kernel_regularizer=l2(0.000001), bias_regularizer=l2(0.000001)))\n",
    "model.add(Dropout(0.2))\n",
    "\n",
    "model.add(Conv2D(128, (2,2), activation='relu', kernel_regularizer=l2(0.000001), bias_regularizer=l2(0.000001)))\n",
    "model.add(Dropout(0.5))\n",
    "model.add(MaxPooling2D(pool_size=1))\n",
    "model.add(Flatten())\n",
    "model.add(Dense(100, activation='relu', kernel_regularizer=l2(0.000001), bias_regularizer=l2(0.000001)))\n",
    "model.add(Dropout(0.5))\n",
    "\n",
    "model.add(Dense(14, activation='softmax', kernel_regularizer=l2(0.000001), bias_regularizer=l2(0.000001)))"
   ]
  },
  {
   "cell_type": "code",
   "execution_count": null,
   "metadata": {},
   "outputs": [],
   "source": [
    "model.compile(optimizer=Adam(learning_rate=0.001), loss='sparse_categorical_crossentropy', metrics = ['accuracy'])"
   ]
  },
  {
   "cell_type": "code",
   "execution_count": null,
   "metadata": {},
   "outputs": [],
   "source": [
    "history = model.fit(x_train, y_train, epochs=25, batch_size = 32, validation_data = (x_test, y_test), verbose=1)"
   ]
  },
  {
   "cell_type": "markdown",
   "metadata": {},
   "source": [
    "# CNN using L2 w/wo Dropout 2 layers -16/32U"
   ]
  },
  {
   "cell_type": "code",
   "execution_count": 64,
   "metadata": {},
   "outputs": [],
   "source": [
    "model = Sequential()\n",
    "model.add(tf.keras.layers.Reshape((3, 25, 1), input_shape=(3,25)))\n",
    "model.add(Conv2D(16, (2,2), activation='relu', input_shape = model.output_shape, kernel_regularizer=l2(0.000001), bias_regularizer=l2(0.000001)))\n",
    "model.add(Dropout(0.2))\n",
    "\n",
    "model.add(Conv2D(32, (2,2), activation='relu', kernel_regularizer=l2(0.000001), bias_regularizer=l2(0.000001)))\n",
    "model.add(Dropout(0.5))\n",
    "model.add(MaxPooling2D(pool_size=1))\n",
    "model.add(Flatten())\n",
    "model.add(Dense(100, activation='relu', kernel_regularizer=l2(0.000001), bias_regularizer=l2(0.000001)))\n",
    "model.add(Dropout(0.5))\n",
    "\n",
    "model.add(Dense(14, activation='softmax', kernel_regularizer=l2(0.000001), bias_regularizer=l2(0.000001)))"
   ]
  },
  {
   "cell_type": "code",
   "execution_count": 65,
   "metadata": {},
   "outputs": [],
   "source": [
    "model.compile(optimizer=Adam(learning_rate=0.001), loss='sparse_categorical_crossentropy', metrics = ['accuracy'])"
   ]
  },
  {
   "cell_type": "code",
   "execution_count": 66,
   "metadata": {},
   "outputs": [
    {
     "name": "stdout",
     "output_type": "stream",
     "text": [
      "Train on 14997 samples, validate on 252 samples\n",
      "Epoch 1/25\n",
      "14997/14997 [==============================] - 34s 2ms/sample - loss: 1.2761 - accuracy: 0.5570 - val_loss: 0.9023 - val_accuracy: 0.6627\n",
      "Epoch 2/25\n",
      "14997/14997 [==============================] - 31s 2ms/sample - loss: 0.8796 - accuracy: 0.6776 - val_loss: 0.8163 - val_accuracy: 0.5913\n",
      "Epoch 3/25\n",
      "14997/14997 [==============================] - 31s 2ms/sample - loss: 0.7865 - accuracy: 0.7134 - val_loss: 0.9343 - val_accuracy: 0.5357\n",
      "Epoch 4/25\n",
      "14997/14997 [==============================] - 31s 2ms/sample - loss: 0.7130 - accuracy: 0.7403 - val_loss: 0.9016 - val_accuracy: 0.6151\n",
      "Epoch 5/25\n",
      "14997/14997 [==============================] - 31s 2ms/sample - loss: 0.6753 - accuracy: 0.7548 - val_loss: 0.9726 - val_accuracy: 0.6190\n",
      "Epoch 6/25\n",
      "14997/14997 [==============================] - 32s 2ms/sample - loss: 0.6323 - accuracy: 0.7690 - val_loss: 1.1422 - val_accuracy: 0.5794\n",
      "Epoch 7/25\n",
      "14997/14997 [==============================] - 35s 2ms/sample - loss: 0.6044 - accuracy: 0.7826 - val_loss: 1.2689 - val_accuracy: 0.6151\n",
      "Epoch 8/25\n",
      "14997/14997 [==============================] - 37s 2ms/sample - loss: 0.5828 - accuracy: 0.7855 - val_loss: 1.2242 - val_accuracy: 0.6786\n",
      "Epoch 9/25\n",
      "14997/14997 [==============================] - 34s 2ms/sample - loss: 0.5576 - accuracy: 0.7984 - val_loss: 1.2258 - val_accuracy: 0.5952\n",
      "Epoch 10/25\n",
      "14997/14997 [==============================] - 34s 2ms/sample - loss: 0.5530 - accuracy: 0.8008 - val_loss: 1.3320 - val_accuracy: 0.5635\n",
      "Epoch 11/25\n",
      "14997/14997 [==============================] - 32s 2ms/sample - loss: 0.5228 - accuracy: 0.8109 - val_loss: 1.5658 - val_accuracy: 0.5952\n",
      "Epoch 12/25\n",
      "14997/14997 [==============================] - 33s 2ms/sample - loss: 0.5110 - accuracy: 0.8158 - val_loss: 1.2032 - val_accuracy: 0.6032\n",
      "Epoch 13/25\n",
      "14997/14997 [==============================] - 36s 2ms/sample - loss: 0.4917 - accuracy: 0.8229 - val_loss: 1.3574 - val_accuracy: 0.6230\n",
      "Epoch 14/25\n",
      "14997/14997 [==============================] - 36s 2ms/sample - loss: 0.4814 - accuracy: 0.8260 - val_loss: 1.5814 - val_accuracy: 0.5952\n",
      "Epoch 15/25\n",
      "14997/14997 [==============================] - 35s 2ms/sample - loss: 0.4687 - accuracy: 0.8296 - val_loss: 1.5901 - val_accuracy: 0.5952\n",
      "Epoch 16/25\n",
      "14997/14997 [==============================] - 35s 2ms/sample - loss: 0.4560 - accuracy: 0.8342 - val_loss: 1.7344 - val_accuracy: 0.5992\n",
      "Epoch 17/25\n",
      "14997/14997 [==============================] - 31s 2ms/sample - loss: 0.4564 - accuracy: 0.8371 - val_loss: 1.4349 - val_accuracy: 0.6667\n",
      "Epoch 18/25\n",
      "14997/14997 [==============================] - 31s 2ms/sample - loss: 0.4347 - accuracy: 0.8430 - val_loss: 1.9661 - val_accuracy: 0.6111\n",
      "Epoch 19/25\n",
      "14997/14997 [==============================] - 35s 2ms/sample - loss: 0.4291 - accuracy: 0.8455 - val_loss: 1.8460 - val_accuracy: 0.6071\n",
      "Epoch 20/25\n",
      "14997/14997 [==============================] - 33s 2ms/sample - loss: 0.4180 - accuracy: 0.8458 - val_loss: 2.1008 - val_accuracy: 0.6032\n",
      "Epoch 21/25\n",
      "14997/14997 [==============================] - 33s 2ms/sample - loss: 0.4141 - accuracy: 0.8504 - val_loss: 2.3108 - val_accuracy: 0.6032\n",
      "Epoch 22/25\n",
      "14997/14997 [==============================] - 32s 2ms/sample - loss: 0.4123 - accuracy: 0.8476 - val_loss: 2.6694 - val_accuracy: 0.5992\n",
      "Epoch 23/25\n",
      "14997/14997 [==============================] - 31s 2ms/sample - loss: 0.4098 - accuracy: 0.8511 - val_loss: 2.4769 - val_accuracy: 0.5833\n",
      "Epoch 24/25\n",
      "14997/14997 [==============================] - 31s 2ms/sample - loss: 0.3964 - accuracy: 0.8552 - val_loss: 1.6498 - val_accuracy: 0.6071\n",
      "Epoch 25/25\n",
      "14997/14997 [==============================] - 32s 2ms/sample - loss: 0.3866 - accuracy: 0.8584 - val_loss: 2.4611 - val_accuracy: 0.6032\n"
     ]
    }
   ],
   "source": [
    "history = model.fit(x_train, y_train, epochs=25, batch_size = 32, validation_data = (x_test, y_test), verbose=1)"
   ]
  },
  {
   "cell_type": "code",
   "execution_count": 140,
   "metadata": {},
   "outputs": [],
   "source": [
    "y_pred = model.predict_classes(x_test)"
   ]
  },
  {
   "cell_type": "code",
   "execution_count": 141,
   "metadata": {},
   "outputs": [
    {
     "data": {
      "text/plain": [
       "(<Figure size 936x936 with 1 Axes>,\n",
       " <AxesSubplot:xlabel='predicted label', ylabel='true label'>)"
      ]
     },
     "execution_count": 141,
     "metadata": {},
     "output_type": "execute_result"
    },
    {
     "data": {
      "image/png": "[encoded data removed]",
      "text/plain": [
       "<Figure size 936x936 with 1 Axes>"
      ]
     },
     "metadata": {
      "needs_background": "light"
     },
     "output_type": "display_data"
    }
   ],
   "source": [
    "mat = confusion_matrix(y_test, y_pred)\n",
    "plot_confusion_matrix(conf_mat=mat, class_names=pp.new_activity_dict.values(), show_normed=True, figsize=(13,13))"
   ]
  },
  {
   "cell_type": "markdown",
   "metadata": {},
   "source": [
    "## Convert Model to TF Lite"
   ]
  },
  {
   "cell_type": "code",
   "execution_count": 142,
   "metadata": {
    "scrolled": true
   },
   "outputs": [
    {
     "name": "stdout",
     "output_type": "stream",
     "text": [
      "Float model size = 1417KBs.\n"
     ]
    }
   ],
   "source": [
    "converter = tf.lite.TFLiteConverter.from_keras_model(model)\n",
    "tflite_float_model = converter.convert()\n",
    "\n",
    "float_model_size = len(tflite_float_model) / 1024\n",
    "print('Float model size = %dKBs.' % float_model_size)"
   ]
  },
  {
   "cell_type": "code",
   "execution_count": 143,
   "metadata": {},
   "outputs": [
    {
     "name": "stdout",
     "output_type": "stream",
     "text": [
      "`chesthar.tflite` has been downloaded\n"
     ]
    }
   ],
   "source": [
    "f = open('chesthar.tflite', \"wb\")\n",
    "f.write(tflite_float_model)\n",
    "f.close()\n",
    "\n",
    "print('`chesthar.tflite` has been downloaded')"
   ]
  },
  {
   "cell_type": "markdown",
   "metadata": {},
   "source": [
    "# 1d CNN 2 layers -16/32U"
   ]
  },
  {
   "cell_type": "code",
   "execution_count": 98,
   "metadata": {},
   "outputs": [],
   "source": [
    "model = Sequential()\n",
    "\n",
    "model.add(Conv1D(filters=16, kernel_size=2, activation='relu', input_shape = x_train[0].shape))\n",
    "model.add(Dropout(0.2))\n",
    "\n",
    "model.add(Conv1D(filters=32, kernel_size=2, activation='relu'))\n",
    "model.add(Dropout(0.5))\n",
    "model.add(MaxPooling1D(pool_size=1))\n",
    "model.add(Flatten())\n",
    "\n",
    "model.add(Dense(100, activation='relu'))\n",
    "model.add(Dropout(0.5))\n",
    "\n",
    "model.add(Dense(13, activation='softmax'))"
   ]
  },
  {
   "cell_type": "code",
   "execution_count": 99,
   "metadata": {},
   "outputs": [],
   "source": [
    "model.compile(optimizer=Adam(learning_rate=0.001), loss='sparse_categorical_crossentropy', metrics = ['accuracy'])"
   ]
  },
  {
   "cell_type": "code",
   "execution_count": 100,
   "metadata": {},
   "outputs": [
    {
     "name": "stdout",
     "output_type": "stream",
     "text": [
      "Train on 14997 samples, validate on 252 samples\n",
      "Epoch 1/10\n",
      "14997/14997 [==============================] - 9s 572us/sample - loss: 1.7862 - accuracy: 0.3937 - val_loss: 1.2021 - val_accuracy: 0.5992\n",
      "Epoch 2/10\n",
      "14997/14997 [==============================] - 7s 445us/sample - loss: 1.3211 - accuracy: 0.5277 - val_loss: 0.9313 - val_accuracy: 0.5833\n",
      "Epoch 3/10\n",
      "14997/14997 [==============================] - 7s 450us/sample - loss: 1.1885 - accuracy: 0.5702 - val_loss: 0.8277 - val_accuracy: 0.6587\n",
      "Epoch 4/10\n",
      "14997/14997 [==============================] - 7s 455us/sample - loss: 1.1082 - accuracy: 0.5947 - val_loss: 0.8331 - val_accuracy: 0.6270\n",
      "Epoch 5/10\n",
      "14997/14997 [==============================] - 7s 473us/sample - loss: 1.0614 - accuracy: 0.6060 - val_loss: 0.8484 - val_accuracy: 0.6706\n",
      "Epoch 6/10\n",
      "14997/14997 [==============================] - 7s 459us/sample - loss: 1.0340 - accuracy: 0.6165 - val_loss: 0.8253 - val_accuracy: 0.6667\n",
      "Epoch 7/10\n",
      "14997/14997 [==============================] - 7s 460us/sample - loss: 1.0063 - accuracy: 0.6263 - val_loss: 0.7745 - val_accuracy: 0.6270\n",
      "Epoch 8/10\n",
      "14997/14997 [==============================] - 7s 461us/sample - loss: 0.9900 - accuracy: 0.6297 - val_loss: 0.8118 - val_accuracy: 0.6468\n",
      "Epoch 9/10\n",
      "14997/14997 [==============================] - 7s 458us/sample - loss: 0.9784 - accuracy: 0.6367 - val_loss: 0.7724 - val_accuracy: 0.6468\n",
      "Epoch 10/10\n",
      "14997/14997 [==============================] - 7s 458us/sample - loss: 0.9660 - accuracy: 0.6407 - val_loss: 0.7750 - val_accuracy: 0.6468\n"
     ]
    }
   ],
   "source": [
    "history = model.fit(x_train, y_train, epochs=25, batch_size = 16, validation_data = (x_test, y_test), verbose=1)"
   ]
  },
  {
   "cell_type": "markdown",
   "metadata": {},
   "source": [
    "# 1d CNN 2 layers -128/128U"
   ]
  },
  {
   "cell_type": "code",
   "execution_count": null,
   "metadata": {},
   "outputs": [],
   "source": [
    "model = Sequential()\n",
    "\n",
    "model.add(Conv1D(filters=128, kernel_size=2, activation='relu', input_shape = x_train[0].shape))\n",
    "model.add(Dropout(0.2))\n",
    "\n",
    "model.add(Conv1D(filters=128, kernel_size=2, activation='relu'))\n",
    "model.add(Dropout(0.5))\n",
    "model.add(MaxPooling1D(pool_size=1))\n",
    "model.add(Flatten())\n",
    "\n",
    "model.add(Dense(100, activation='relu'))\n",
    "model.add(Dropout(0.5))\n",
    "\n",
    "model.add(Dense(13, activation='softmax'))"
   ]
  },
  {
   "cell_type": "code",
   "execution_count": null,
   "metadata": {},
   "outputs": [],
   "source": [
    "model.compile(optimizer=Adam(learning_rate=0.001), loss='sparse_categorical_crossentropy', metrics = ['accuracy'])"
   ]
  },
  {
   "cell_type": "code",
   "execution_count": null,
   "metadata": {},
   "outputs": [],
   "source": [
    "history = model.fit(x_train, y_train, epochs=25, batch_size = 16, validation_data = (x_test, y_test), verbose=1)"
   ]
  },
  {
   "cell_type": "markdown",
   "metadata": {},
   "source": [
    "# 1D CNN with L2 - 2 layers -128/128U"
   ]
  },
  {
   "cell_type": "code",
   "execution_count": null,
   "metadata": {},
   "outputs": [],
   "source": [
    "model = Sequential()\n",
    "\n",
    "model.add(Conv1D(filters=128, kernel_size=2, activation='relu', input_shape = x_train[0].shape, kernel_regularizer=l2(0.000001), bias_regularizer=l2(0.000001)))\n",
    "model.add(Dropout(0.2))\n",
    "\n",
    "model.add(Conv1D(filters=128, kernel_size=2, activation='relu', kernel_regularizer=l2(0.000001), bias_regularizer=l2(0.000001)))\n",
    "model.add(Dropout(0.5))\n",
    "model.add(MaxPooling1D(pool_size=1))\n",
    "model.add(Flatten())\n",
    "\n",
    "model.add(Dense(100, activation='relu', kernel_regularizer=l2(0.000001), bias_regularizer=l2(0.000001)))\n",
    "model.add(Dropout(0.5))\n",
    "\n",
    "model.add(Dense(14, activation='softmax', kernel_regularizer=l2(0.000001), bias_regularizer=l2(0.000001)))"
   ]
  },
  {
   "cell_type": "code",
   "execution_count": null,
   "metadata": {},
   "outputs": [],
   "source": [
    "model.compile(optimizer=Adam(learning_rate=0.001), loss='sparse_categorical_crossentropy', metrics = ['accuracy'])"
   ]
  },
  {
   "cell_type": "code",
   "execution_count": null,
   "metadata": {},
   "outputs": [],
   "source": [
    "history = model.fit(x_train, y_train, epochs=25, batch_size = 16, validation_data = (x_test, y_test), verbose=1)"
   ]
  },
  {
   "cell_type": "markdown",
   "metadata": {},
   "source": [
    "# 1D CNN with L2 - 2 layers -16/32U"
   ]
  },
  {
   "cell_type": "code",
   "execution_count": 67,
   "metadata": {},
   "outputs": [],
   "source": [
    "model = Sequential()\n",
    "\n",
    "model.add(Conv1D(filters=16, kernel_size=2, activation='relu', input_shape = x_train[0].shape, kernel_regularizer=l2(0.000001), bias_regularizer=l2(0.000001)))\n",
    "model.add(Dropout(0.2))\n",
    "\n",
    "model.add(Conv1D(filters=32, kernel_size=2, activation='relu', kernel_regularizer=l2(0.000001), bias_regularizer=l2(0.000001)))\n",
    "model.add(Dropout(0.5))\n",
    "model.add(MaxPooling1D(pool_size=1))\n",
    "model.add(Flatten())\n",
    "\n",
    "model.add(Dense(100, activation='relu', kernel_regularizer=l2(0.000001), bias_regularizer=l2(0.000001)))\n",
    "model.add(Dropout(0.5))\n",
    "\n",
    "model.add(Dense(14, activation='softmax', kernel_regularizer=l2(0.000001), bias_regularizer=l2(0.000001)))"
   ]
  },
  {
   "cell_type": "code",
   "execution_count": 68,
   "metadata": {},
   "outputs": [],
   "source": [
    "model.compile(optimizer=Adam(learning_rate=0.001), loss='sparse_categorical_crossentropy', metrics = ['accuracy'])"
   ]
  },
  {
   "cell_type": "code",
   "execution_count": 69,
   "metadata": {},
   "outputs": [
    {
     "name": "stdout",
     "output_type": "stream",
     "text": [
      "Train on 14997 samples, validate on 252 samples\n",
      "Epoch 1/10\n",
      "14997/14997 [==============================] - 9s 621us/sample - loss: 1.7688 - accuracy: 0.3976 - val_loss: 1.1895 - val_accuracy: 0.5476\n",
      "Epoch 2/10\n",
      "14997/14997 [==============================] - 8s 564us/sample - loss: 1.3778 - accuracy: 0.5154 - val_loss: 1.0642 - val_accuracy: 0.5952\n",
      "Epoch 3/10\n",
      "14997/14997 [==============================] - 10s 685us/sample - loss: 1.2187 - accuracy: 0.5640 - val_loss: 1.0621 - val_accuracy: 0.6032\n",
      "Epoch 4/10\n",
      "14997/14997 [==============================] - 10s 645us/sample - loss: 1.1163 - accuracy: 0.5960 - val_loss: 0.9222 - val_accuracy: 0.6310\n",
      "Epoch 5/10\n",
      "14997/14997 [==============================] - 8s 506us/sample - loss: 1.0650 - accuracy: 0.6115 - val_loss: 0.9609 - val_accuracy: 0.5992\n",
      "Epoch 6/10\n",
      "14997/14997 [==============================] - 7s 491us/sample - loss: 1.0404 - accuracy: 0.6186 - val_loss: 0.8599 - val_accuracy: 0.6190\n",
      "Epoch 7/10\n",
      "14997/14997 [==============================] - 7s 490us/sample - loss: 1.0092 - accuracy: 0.6313 - val_loss: 0.7947 - val_accuracy: 0.6825\n",
      "Epoch 8/10\n",
      "14997/14997 [==============================] - 7s 491us/sample - loss: 0.9752 - accuracy: 0.6469 - val_loss: 0.8607 - val_accuracy: 0.6429\n",
      "Epoch 9/10\n",
      "14997/14997 [==============================] - 7s 491us/sample - loss: 0.9613 - accuracy: 0.6445 - val_loss: 0.8936 - val_accuracy: 0.6190\n",
      "Epoch 10/10\n",
      "14997/14997 [==============================] - 7s 494us/sample - loss: 0.9443 - accuracy: 0.6497 - val_loss: 0.8036 - val_accuracy: 0.6706\n"
     ]
    }
   ],
   "source": [
    "history = model.fit(x_train, y_train, epochs=25, batch_size = 16, validation_data = (x_test, y_test), verbose=1)"
   ]
  },
  {
   "cell_type": "markdown",
   "metadata": {},
   "source": [
    "# "
   ]
  },
  {
   "cell_type": "markdown",
   "metadata": {},
   "source": [
    "# "
   ]
  },
  {
   "cell_type": "markdown",
   "metadata": {},
   "source": [
    "# 2D CNN - 1 layer - 16U"
   ]
  },
  {
   "cell_type": "code",
   "execution_count": null,
   "metadata": {},
   "outputs": [],
   "source": [
    "model = Sequential()\n",
    "model.add(tf.keras.layers.Reshape((3, 25, 1), input_shape=(3,25)))\n",
    "model.add(Conv2D(16, (2,2), activation='relu', input_shape = model.output_shape))\n",
    "model.add(Dropout(0.2))\n",
    "model.add(MaxPooling2D(pool_size=1))\n",
    "model.add(Flatten())\n",
    "model.add(Dense(100, activation='relu'))\n",
    "model.add(Dropout(0.5))\n",
    "\n",
    "model.add(Dense(13, activation='softmax'))"
   ]
  },
  {
   "cell_type": "code",
   "execution_count": null,
   "metadata": {},
   "outputs": [],
   "source": [
    "model.compile(optimizer=Adam(learning_rate=0.001), loss='sparse_categorical_crossentropy', metrics = ['accuracy'])"
   ]
  },
  {
   "cell_type": "code",
   "execution_count": null,
   "metadata": {},
   "outputs": [],
   "source": [
    "history = model.fit(x_train, y_train, epochs=25, batch_size = 32, validation_data = (x_test, y_test), verbose=1)"
   ]
  },
  {
   "cell_type": "markdown",
   "metadata": {},
   "source": [
    "# 2D CNN - 1 layer - 32U"
   ]
  },
  {
   "cell_type": "code",
   "execution_count": null,
   "metadata": {},
   "outputs": [],
   "source": [
    "model = Sequential()\n",
    "model.add(tf.keras.layers.Reshape((3, 25, 1), input_shape=(3,25)))\n",
    "model.add(Conv2D(32, (2,2), activation='relu', input_shape = model.output_shape))\n",
    "model.add(Dropout(0.2))\n",
    "model.add(MaxPooling2D(pool_size=1))\n",
    "model.add(Flatten())\n",
    "model.add(Dense(100, activation='relu'))\n",
    "model.add(Dropout(0.5))\n",
    "\n",
    "model.add(Dense(13, activation='softmax'))"
   ]
  },
  {
   "cell_type": "code",
   "execution_count": null,
   "metadata": {},
   "outputs": [],
   "source": [
    "model.compile(optimizer=Adam(learning_rate=0.001), loss='sparse_categorical_crossentropy', metrics = ['accuracy'])"
   ]
  },
  {
   "cell_type": "code",
   "execution_count": null,
   "metadata": {},
   "outputs": [],
   "source": [
    "history = model.fit(x_train, y_train, epochs=25, batch_size = 32, validation_data = (x_test, y_test), verbose=1)"
   ]
  },
  {
   "cell_type": "markdown",
   "metadata": {},
   "source": [
    "# 2D CNN - 1 layer - 64U"
   ]
  },
  {
   "cell_type": "code",
   "execution_count": null,
   "metadata": {},
   "outputs": [],
   "source": [
    "model = Sequential()\n",
    "model.add(tf.keras.layers.Reshape((3, 25, 1), input_shape=(3,25)))\n",
    "model.add(Conv2D(64, (2,2), activation='relu', input_shape = model.output_shape))\n",
    "model.add(Dropout(0.2))\n",
    "model.add(MaxPooling2D(pool_size=1))\n",
    "model.add(Flatten())\n",
    "model.add(Dense(100, activation='relu'))\n",
    "model.add(Dropout(0.5))\n",
    "\n",
    "model.add(Dense(13, activation='softmax'))"
   ]
  },
  {
   "cell_type": "code",
   "execution_count": null,
   "metadata": {},
   "outputs": [],
   "source": [
    "model.compile(optimizer=Adam(learning_rate=0.001), loss='sparse_categorical_crossentropy', metrics = ['accuracy'])"
   ]
  },
  {
   "cell_type": "code",
   "execution_count": null,
   "metadata": {},
   "outputs": [],
   "source": [
    "history = model.fit(x_train, y_train, epochs=25, batch_size = 32, validation_data = (x_test, y_test), verbose=1)"
   ]
  },
  {
   "cell_type": "markdown",
   "metadata": {},
   "source": [
    "# 2D CNN - 1 layer - 128U"
   ]
  },
  {
   "cell_type": "code",
   "execution_count": null,
   "metadata": {},
   "outputs": [],
   "source": [
    "model = Sequential()\n",
    "model.add(tf.keras.layers.Reshape((3, 25, 1), input_shape=(3,25)))\n",
    "model.add(Conv2D(128, (2,2), activation='relu', input_shape = model.output_shape))\n",
    "model.add(Dropout(0.2))\n",
    "model.add(MaxPooling2D(pool_size=1))\n",
    "model.add(Flatten())\n",
    "model.add(Dense(100, activation='relu'))\n",
    "model.add(Dropout(0.5))\n",
    "\n",
    "model.add(Dense(13, activation='softmax'))"
   ]
  },
  {
   "cell_type": "code",
   "execution_count": null,
   "metadata": {},
   "outputs": [],
   "source": [
    "model.compile(optimizer=Adam(learning_rate=0.001), loss='sparse_categorical_crossentropy', metrics = ['accuracy'])"
   ]
  },
  {
   "cell_type": "code",
   "execution_count": null,
   "metadata": {},
   "outputs": [],
   "source": [
    "history = model.fit(x_train, y_train, epochs=25, batch_size = 32, validation_data = (x_test, y_test), verbose=1)"
   ]
  },
  {
   "cell_type": "markdown",
   "metadata": {},
   "source": [
    "# 2D CNN w L2 - 1 layer - 16U"
   ]
  },
  {
   "cell_type": "code",
   "execution_count": null,
   "metadata": {},
   "outputs": [],
   "source": [
    "model = Sequential()\n",
    "model.add(tf.keras.layers.Reshape((3, 25, 1), input_shape=(3,25)))\n",
    "model.add(Conv2D(16, (2,2), activation='relu', input_shape = model.output_shape, kernel_regularizer=l2(0.000001), bias_regularizer=l2(0.000001)))\n",
    "model.add(Dropout(0.2))\n",
    "model.add(MaxPooling2D(pool_size=1))\n",
    "model.add(Flatten())\n",
    "model.add(Dense(100, activation='relu', kernel_regularizer=l2(0.000001), bias_regularizer=l2(0.000001)))\n",
    "model.add(Dropout(0.5))\n",
    "\n",
    "model.add(Dense(14, activation='softmax', kernel_regularizer=l2(0.000001), bias_regularizer=l2(0.000001)))"
   ]
  },
  {
   "cell_type": "code",
   "execution_count": null,
   "metadata": {},
   "outputs": [],
   "source": [
    "model.compile(optimizer=Adam(learning_rate=0.001), loss='sparse_categorical_crossentropy', metrics = ['accuracy'])"
   ]
  },
  {
   "cell_type": "code",
   "execution_count": null,
   "metadata": {},
   "outputs": [],
   "source": [
    "history = model.fit(x_train, y_train, epochs=25, batch_size = 32, validation_data = (x_test, y_test), verbose=1)"
   ]
  },
  {
   "cell_type": "markdown",
   "metadata": {},
   "source": [
    "# 2D CNN w L2 - 1 layer - 32U"
   ]
  },
  {
   "cell_type": "code",
   "execution_count": null,
   "metadata": {},
   "outputs": [],
   "source": [
    "model = Sequential()\n",
    "model.add(tf.keras.layers.Reshape((3, 25, 1), input_shape=(3,25)))\n",
    "model.add(Conv2D(32, (2,2), activation='relu', input_shape = model.output_shape, kernel_regularizer=l2(0.000001), bias_regularizer=l2(0.000001)))\n",
    "model.add(Dropout(0.2))\n",
    "model.add(MaxPooling2D(pool_size=1))\n",
    "model.add(Flatten())\n",
    "model.add(Dense(100, activation='relu', kernel_regularizer=l2(0.000001), bias_regularizer=l2(0.000001)))\n",
    "model.add(Dropout(0.5))\n",
    "\n",
    "model.add(Dense(14, activation='softmax', kernel_regularizer=l2(0.000001), bias_regularizer=l2(0.000001)))"
   ]
  },
  {
   "cell_type": "code",
   "execution_count": null,
   "metadata": {},
   "outputs": [],
   "source": [
    "model.compile(optimizer=Adam(learning_rate=0.001), loss='sparse_categorical_crossentropy', metrics = ['accuracy'])"
   ]
  },
  {
   "cell_type": "code",
   "execution_count": null,
   "metadata": {},
   "outputs": [],
   "source": [
    "history = model.fit(x_train, y_train, epochs=25, batch_size = 32, validation_data = (x_test, y_test), verbose=1)"
   ]
  },
  {
   "cell_type": "markdown",
   "metadata": {},
   "source": [
    "# 2D CNN w L2 - 1 layer - 64U"
   ]
  },
  {
   "cell_type": "code",
   "execution_count": null,
   "metadata": {},
   "outputs": [],
   "source": [
    "model = Sequential()\n",
    "model.add(tf.keras.layers.Reshape((3, 25, 1), input_shape=(3,25)))\n",
    "model.add(Conv2D(64, (2,2), activation='relu', input_shape = model.output_shape, kernel_regularizer=l2(0.000001), bias_regularizer=l2(0.000001)))\n",
    "model.add(Dropout(0.2))\n",
    "model.add(MaxPooling2D(pool_size=1))\n",
    "model.add(Flatten())\n",
    "model.add(Dense(100, activation='relu', kernel_regularizer=l2(0.000001), bias_regularizer=l2(0.000001)))\n",
    "model.add(Dropout(0.5))\n",
    "\n",
    "model.add(Dense(14, activation='softmax', kernel_regularizer=l2(0.000001), bias_regularizer=l2(0.000001)))"
   ]
  },
  {
   "cell_type": "code",
   "execution_count": null,
   "metadata": {},
   "outputs": [],
   "source": [
    "model.compile(optimizer=Adam(learning_rate=0.001), loss='sparse_categorical_crossentropy', metrics = ['accuracy'])"
   ]
  },
  {
   "cell_type": "code",
   "execution_count": null,
   "metadata": {},
   "outputs": [],
   "source": [
    "history = model.fit(x_train, y_train, epochs=25, batch_size = 32, validation_data = (x_test, y_test), verbose=1)"
   ]
  },
  {
   "cell_type": "markdown",
   "metadata": {},
   "source": [
    "# 2D CNN w L2 - 1 layer - 128U"
   ]
  },
  {
   "cell_type": "code",
   "execution_count": null,
   "metadata": {},
   "outputs": [],
   "source": [
    "model = Sequential()\n",
    "model.add(tf.keras.layers.Reshape((3, 25, 1), input_shape=(3,25)))\n",
    "model.add(Conv2D(128, (2,2), activation='relu', input_shape = model.output_shape, kernel_regularizer=l2(0.000001), bias_regularizer=l2(0.000001)))\n",
    "model.add(Dropout(0.2))\n",
    "model.add(MaxPooling2D(pool_size=1))\n",
    "model.add(Flatten())\n",
    "model.add(Dense(100, activation='relu', kernel_regularizer=l2(0.000001), bias_regularizer=l2(0.000001)))\n",
    "model.add(Dropout(0.5))\n",
    "\n",
    "model.add(Dense(14, activation='softmax', kernel_regularizer=l2(0.000001), bias_regularizer=l2(0.000001)))"
   ]
  },
  {
   "cell_type": "code",
   "execution_count": null,
   "metadata": {},
   "outputs": [],
   "source": [
    "model.compile(optimizer=Adam(learning_rate=0.001), loss='sparse_categorical_crossentropy', metrics = ['accuracy'])"
   ]
  },
  {
   "cell_type": "code",
   "execution_count": null,
   "metadata": {},
   "outputs": [],
   "source": [
    "history = model.fit(x_train, y_train, epochs=25, batch_size = 32, validation_data = (x_test, y_test), verbose=1)"
   ]
  },
  {
   "cell_type": "markdown",
   "metadata": {},
   "source": [
    "# 1D CNN - 1 layer - 16U"
   ]
  },
  {
   "cell_type": "code",
   "execution_count": null,
   "metadata": {},
   "outputs": [],
   "source": [
    "model = Sequential()\n",
    "\n",
    "model.add(Conv1D(filters=16, kernel_size=2, activation='relu', input_shape = x_train[0].shape))\n",
    "model.add(Dropout(0.2))\n",
    "model.add(MaxPooling1D(pool_size=1))\n",
    "model.add(Flatten())\n",
    "\n",
    "model.add(Dense(100, activation='relu'))\n",
    "model.add(Dropout(0.5))\n",
    "\n",
    "model.add(Dense(13, activation='softmax'))"
   ]
  },
  {
   "cell_type": "code",
   "execution_count": null,
   "metadata": {},
   "outputs": [],
   "source": [
    "model.compile(optimizer=Adam(learning_rate=0.001), loss='sparse_categorical_crossentropy', metrics = ['accuracy'])"
   ]
  },
  {
   "cell_type": "code",
   "execution_count": null,
   "metadata": {},
   "outputs": [],
   "source": [
    "history = model.fit(x_train, y_train, epochs=25, batch_size = 32, validation_data = (x_test, y_test), verbose=1)"
   ]
  },
  {
   "cell_type": "markdown",
   "metadata": {},
   "source": [
    "# 1D CNN - 1 layer - 32U"
   ]
  },
  {
   "cell_type": "code",
   "execution_count": null,
   "metadata": {},
   "outputs": [],
   "source": [
    "model = Sequential()\n",
    "\n",
    "model.add(Conv1D(filters=32, kernel_size=2, activation='relu', input_shape = x_train[0].shape))\n",
    "model.add(Dropout(0.2))\n",
    "model.add(MaxPooling1D(pool_size=1))\n",
    "model.add(Flatten())\n",
    "\n",
    "model.add(Dense(100, activation='relu'))\n",
    "model.add(Dropout(0.5))\n",
    "\n",
    "model.add(Dense(13, activation='softmax'))"
   ]
  },
  {
   "cell_type": "code",
   "execution_count": null,
   "metadata": {},
   "outputs": [],
   "source": [
    "model.compile(optimizer=Adam(learning_rate=0.001), loss='sparse_categorical_crossentropy', metrics = ['accuracy'])"
   ]
  },
  {
   "cell_type": "code",
   "execution_count": null,
   "metadata": {},
   "outputs": [],
   "source": [
    "history = model.fit(x_train, y_train, epochs=25, batch_size = 32, validation_data = (x_test, y_test), verbose=1)"
   ]
  },
  {
   "cell_type": "markdown",
   "metadata": {},
   "source": [
    "# 1D CNN - 1 layer - 64U"
   ]
  },
  {
   "cell_type": "code",
   "execution_count": null,
   "metadata": {},
   "outputs": [],
   "source": [
    "model = Sequential()\n",
    "\n",
    "model.add(Conv1D(filters=64, kernel_size=2, activation='relu', input_shape = x_train[0].shape))\n",
    "model.add(Dropout(0.2))\n",
    "model.add(MaxPooling1D(pool_size=1))\n",
    "model.add(Flatten())\n",
    "\n",
    "model.add(Dense(100, activation='relu'))\n",
    "model.add(Dropout(0.5))\n",
    "\n",
    "model.add(Dense(13, activation='softmax'))"
   ]
  },
  {
   "cell_type": "code",
   "execution_count": null,
   "metadata": {},
   "outputs": [],
   "source": [
    "model.compile(optimizer=Adam(learning_rate=0.001), loss='sparse_categorical_crossentropy', metrics = ['accuracy'])"
   ]
  },
  {
   "cell_type": "code",
   "execution_count": null,
   "metadata": {},
   "outputs": [],
   "source": [
    "history = model.fit(x_train, y_train, epochs=25, batch_size = 32, validation_data = (x_test, y_test), verbose=1)"
   ]
  },
  {
   "cell_type": "markdown",
   "metadata": {},
   "source": [
    "# 1D CNN - 1 layer - 128U"
   ]
  },
  {
   "cell_type": "code",
   "execution_count": null,
   "metadata": {},
   "outputs": [],
   "source": [
    "model = Sequential()\n",
    "\n",
    "model.add(Conv1D(filters=128, kernel_size=2, activation='relu', input_shape = x_train[0].shape))\n",
    "model.add(Dropout(0.2))\n",
    "model.add(MaxPooling1D(pool_size=1))\n",
    "model.add(Flatten())\n",
    "\n",
    "model.add(Dense(100, activation='relu'))\n",
    "model.add(Dropout(0.5))\n",
    "\n",
    "model.add(Dense(13, activation='softmax'))"
   ]
  },
  {
   "cell_type": "code",
   "execution_count": null,
   "metadata": {},
   "outputs": [],
   "source": [
    "model.compile(optimizer=Adam(learning_rate=0.001), loss='sparse_categorical_crossentropy', metrics = ['accuracy'])"
   ]
  },
  {
   "cell_type": "code",
   "execution_count": null,
   "metadata": {},
   "outputs": [],
   "source": [
    "history = model.fit(x_train, y_train, epochs=25, batch_size = 32, validation_data = (x_test, y_test), verbose=1)"
   ]
  },
  {
   "cell_type": "markdown",
   "metadata": {},
   "source": [
    "# 1D CNN  w L2 - 1 layer - 16U"
   ]
  },
  {
   "cell_type": "code",
   "execution_count": null,
   "metadata": {},
   "outputs": [],
   "source": [
    "model = Sequential()\n",
    "\n",
    "model.add(Conv1D(filters=16, kernel_size=2, activation='relu', input_shape = x_train[0].shape, kernel_regularizer=l2(0.000001), bias_regularizer=l2(0.000001)))\n",
    "model.add(Dropout(0.2))\n",
    "\n",
    "model.add(MaxPooling1D(pool_size=1))\n",
    "model.add(Flatten())\n",
    "\n",
    "model.add(Dense(100, activation='relu', kernel_regularizer=l2(0.000001), bias_regularizer=l2(0.000001)))\n",
    "model.add(Dropout(0.5))\n",
    "\n",
    "model.add(Dense(14, activation='softmax', kernel_regularizer=l2(0.000001), bias_regularizer=l2(0.000001)))"
   ]
  },
  {
   "cell_type": "code",
   "execution_count": null,
   "metadata": {},
   "outputs": [],
   "source": [
    "model.compile(optimizer=Adam(learning_rate=0.001), loss='sparse_categorical_crossentropy', metrics = ['accuracy'])"
   ]
  },
  {
   "cell_type": "code",
   "execution_count": null,
   "metadata": {},
   "outputs": [],
   "source": [
    "history = model.fit(x_train, y_train, epochs=25, batch_size = 32, validation_data = (x_test, y_test), verbose=1)"
   ]
  },
  {
   "cell_type": "markdown",
   "metadata": {},
   "source": [
    "# 1D CNN  w L2 - 1 layer - 32U"
   ]
  },
  {
   "cell_type": "code",
   "execution_count": null,
   "metadata": {},
   "outputs": [],
   "source": [
    "model = Sequential()\n",
    "\n",
    "model.add(Conv1D(filters=32, kernel_size=2, activation='relu', input_shape = x_train[0].shape, kernel_regularizer=l2(0.000001), bias_regularizer=l2(0.000001)))\n",
    "model.add(Dropout(0.2))\n",
    "\n",
    "model.add(MaxPooling1D(pool_size=1))\n",
    "model.add(Flatten())\n",
    "\n",
    "model.add(Dense(100, activation='relu', kernel_regularizer=l2(0.000001), bias_regularizer=l2(0.000001)))\n",
    "model.add(Dropout(0.5))\n",
    "\n",
    "model.add(Dense(14, activation='softmax', kernel_regularizer=l2(0.000001), bias_regularizer=l2(0.000001)))"
   ]
  },
  {
   "cell_type": "code",
   "execution_count": null,
   "metadata": {},
   "outputs": [],
   "source": [
    "model.compile(optimizer=Adam(learning_rate=0.001), loss='sparse_categorical_crossentropy', metrics = ['accuracy'])"
   ]
  },
  {
   "cell_type": "code",
   "execution_count": null,
   "metadata": {},
   "outputs": [],
   "source": [
    "history = model.fit(x_train, y_train, epochs=25, batch_size = 32, validation_data = (x_test, y_test), verbose=1)"
   ]
  },
  {
   "cell_type": "markdown",
   "metadata": {},
   "source": [
    "# 1D CNN  w L2 - 1 layer - 64U"
   ]
  },
  {
   "cell_type": "code",
   "execution_count": null,
   "metadata": {},
   "outputs": [],
   "source": [
    "model = Sequential()\n",
    "\n",
    "model.add(Conv1D(filters=64, kernel_size=2, activation='relu', input_shape = x_train[0].shape, kernel_regularizer=l2(0.000001), bias_regularizer=l2(0.000001)))\n",
    "model.add(Dropout(0.2))\n",
    "\n",
    "model.add(MaxPooling1D(pool_size=1))\n",
    "model.add(Flatten())\n",
    "\n",
    "model.add(Dense(100, activation='relu', kernel_regularizer=l2(0.000001), bias_regularizer=l2(0.000001)))\n",
    "model.add(Dropout(0.5))\n",
    "\n",
    "model.add(Dense(14, activation='softmax', kernel_regularizer=l2(0.000001), bias_regularizer=l2(0.000001)))"
   ]
  },
  {
   "cell_type": "code",
   "execution_count": null,
   "metadata": {},
   "outputs": [],
   "source": [
    "model.compile(optimizer=Adam(learning_rate=0.001), loss='sparse_categorical_crossentropy', metrics = ['accuracy'])"
   ]
  },
  {
   "cell_type": "code",
   "execution_count": null,
   "metadata": {},
   "outputs": [],
   "source": [
    "history = model.fit(x_train, y_train, epochs=25, batch_size = 32, validation_data = (x_test, y_test), verbose=1)"
   ]
  },
  {
   "cell_type": "markdown",
   "metadata": {},
   "source": [
    "# 1D CNN  w L2 - 1 layer - 128U"
   ]
  },
  {
   "cell_type": "code",
   "execution_count": null,
   "metadata": {},
   "outputs": [],
   "source": [
    "model = Sequential()\n",
    "\n",
    "model.add(Conv1D(filters=128, kernel_size=2, activation='relu', input_shape = x_train[0].shape, kernel_regularizer=l2(0.000001), bias_regularizer=l2(0.000001)))\n",
    "model.add(Dropout(0.2))\n",
    "\n",
    "model.add(MaxPooling1D(pool_size=1))\n",
    "model.add(Flatten())\n",
    "\n",
    "model.add(Dense(100, activation='relu', kernel_regularizer=l2(0.000001), bias_regularizer=l2(0.000001)))\n",
    "model.add(Dropout(0.5))\n",
    "\n",
    "model.add(Dense(14, activation='softmax', kernel_regularizer=l2(0.000001), bias_regularizer=l2(0.000001)))"
   ]
  },
  {
   "cell_type": "code",
   "execution_count": null,
   "metadata": {},
   "outputs": [],
   "source": [
    "model.compile(optimizer=Adam(learning_rate=0.001), loss='sparse_categorical_crossentropy', metrics = ['accuracy'])"
   ]
  },
  {
   "cell_type": "code",
   "execution_count": null,
   "metadata": {},
   "outputs": [],
   "source": [
    "history = model.fit(x_train, y_train, epochs=25, batch_size = 32, validation_data = (x_test, y_test), verbose=1)"
   ]
  }
 ],
 "metadata": {
  "kernelspec": {
   "display_name": "Python 3",
   "language": "python",
   "name": "python3"
  },
  "language_info": {
   "codemirror_mode": {
    "name": "ipython",
    "version": 3
   },
   "file_extension": ".py",
   "mimetype": "text/x-python",
   "name": "python",
   "nbconvert_exporter": "python",
   "pygments_lexer": "ipython3",
   "version": "3.7.9"
  }
 },
 "nbformat": 4,
 "nbformat_minor": 4
}
